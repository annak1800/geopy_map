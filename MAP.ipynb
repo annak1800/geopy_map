{
 "cells": [
  {
   "cell_type": "markdown",
   "metadata": {},
   "source": [
    "# Create Sentinel-2 STMs"
   ]
  },
  {
   "cell_type": "markdown",
   "metadata": {},
   "source": [
    "## Load packages"
   ]
  },
  {
   "cell_type": "code",
   "execution_count": 28,
   "metadata": {},
   "outputs": [
    {
     "data": {
      "text/html": [
       "<p>To authorize access needed by Earth Engine, open the following\n",
       "        URL in a web browser and follow the instructions:</p>\n",
       "        <p><a href=https://code.earthengine.google.com/client-auth?scopes=https%3A//www.googleapis.com/auth/earthengine%20https%3A//www.googleapis.com/auth/cloud-platform%20https%3A//www.googleapis.com/auth/devstorage.full_control&request_id=fR_yenAm606oWt83IDrufsvoxOVnXfOyuqNG8SL85RQ&tc=rq3hwvfVYijwmet3-73qjVVbkBqETuOQ34KLYo4WWJw&cc=tZaKDq7B4YRd3Hg68DhYkJj0XgYGjjqYbZWmr8aqe60>https://code.earthengine.google.com/client-auth?scopes=https%3A//www.googleapis.com/auth/earthengine%20https%3A//www.googleapis.com/auth/cloud-platform%20https%3A//www.googleapis.com/auth/devstorage.full_control&request_id=fR_yenAm606oWt83IDrufsvoxOVnXfOyuqNG8SL85RQ&tc=rq3hwvfVYijwmet3-73qjVVbkBqETuOQ34KLYo4WWJw&cc=tZaKDq7B4YRd3Hg68DhYkJj0XgYGjjqYbZWmr8aqe60</a></p>\n",
       "        <p>The authorization workflow will generate a code, which you should paste in the box below.</p>\n",
       "        "
      ],
      "text/plain": [
       "<IPython.core.display.HTML object>"
      ]
     },
     "metadata": {},
     "output_type": "display_data"
    },
    {
     "name": "stdout",
     "output_type": "stream",
     "text": [
      "\n",
      "Successfully saved authorization token.\n"
     ]
    }
   ],
   "source": [
    "import os\n",
    "#os.environ['CRYPTOGRAPHY_OPENSSL_NO_LEGACY'] = '1'\n",
    "\n",
    "import ee\n",
    "import geemap\n",
    "\n",
    "try:\n",
    "    ee.Initialize()\n",
    "except Exception as e:\n",
    "    ee.Authenticate()\n",
    "    ee.Initialize()"
   ]
  },
  {
   "cell_type": "code",
   "execution_count": 29,
   "metadata": {},
   "outputs": [
    {
     "data": {
      "text/html": [
       "\n",
       "            <style>\n",
       "                .geemap-dark {\n",
       "                    --jp-widgets-color: white;\n",
       "                    --jp-widgets-label-color: white;\n",
       "                    --jp-ui-font-color1: white;\n",
       "                    --jp-layout-color2: #454545;\n",
       "                    background-color: #383838;\n",
       "                }\n",
       "\n",
       "                .geemap-dark .jupyter-button {\n",
       "                    --jp-layout-color3: #383838;\n",
       "                }\n",
       "\n",
       "                .geemap-colab {\n",
       "                    background-color: var(--colab-primary-surface-color, white);\n",
       "                }\n",
       "\n",
       "                .geemap-colab .jupyter-button {\n",
       "                    --jp-layout-color3: var(--colab-primary-surface-color, white);\n",
       "                }\n",
       "            </style>\n",
       "            "
      ],
      "text/plain": [
       "<IPython.core.display.HTML object>"
      ]
     },
     "metadata": {},
     "output_type": "display_data"
    }
   ],
   "source": [
    "## Load packages \n",
    "from osgeo import ogr\n",
    "from tqdm.notebook import tqdm\n",
    "import json\n",
    "import pandas as pd\n",
    "from osgeo import gdal, osr, ogr\n",
    "import geopandas as gpd\n",
    "import numpy as np\n",
    "import fun_fun_fun\n",
    "ogr.DontUseExceptions()"
   ]
  },
  {
   "cell_type": "markdown",
   "metadata": {},
   "source": [
    "## Load auxilary data"
   ]
  },
  {
   "cell_type": "code",
   "execution_count": 3,
   "metadata": {},
   "outputs": [
    {
     "data": {
      "text/html": [
       "\n",
       "            <style>\n",
       "                .geemap-dark {\n",
       "                    --jp-widgets-color: white;\n",
       "                    --jp-widgets-label-color: white;\n",
       "                    --jp-ui-font-color1: white;\n",
       "                    --jp-layout-color2: #454545;\n",
       "                    background-color: #383838;\n",
       "                }\n",
       "\n",
       "                .geemap-dark .jupyter-button {\n",
       "                    --jp-layout-color3: #383838;\n",
       "                }\n",
       "\n",
       "                .geemap-colab {\n",
       "                    background-color: var(--colab-primary-surface-color, white);\n",
       "                }\n",
       "\n",
       "                .geemap-colab .jupyter-button {\n",
       "                    --jp-layout-color3: var(--colab-primary-surface-color, white);\n",
       "                }\n",
       "            </style>\n",
       "            "
      ],
      "text/plain": [
       "<IPython.core.display.HTML object>"
      ]
     },
     "metadata": {},
     "output_type": "display_data"
    }
   ],
   "source": [
    "roiBounds = [4510470.356876345, 3436156.854304816, 4519529.956876345, 3417150.254304816]"
   ]
  },
  {
   "cell_type": "code",
   "execution_count": 4,
   "metadata": {},
   "outputs": [
    {
     "data": {
      "text/html": [
       "\n",
       "            <style>\n",
       "                .geemap-dark {\n",
       "                    --jp-widgets-color: white;\n",
       "                    --jp-widgets-label-color: white;\n",
       "                    --jp-ui-font-color1: white;\n",
       "                    --jp-layout-color2: #454545;\n",
       "                    background-color: #383838;\n",
       "                }\n",
       "\n",
       "                .geemap-dark .jupyter-button {\n",
       "                    --jp-layout-color3: #383838;\n",
       "                }\n",
       "\n",
       "                .geemap-colab {\n",
       "                    background-color: var(--colab-primary-surface-color, white);\n",
       "                }\n",
       "\n",
       "                .geemap-colab .jupyter-button {\n",
       "                    --jp-layout-color3: var(--colab-primary-surface-color, white);\n",
       "                }\n",
       "            </style>\n",
       "            "
      ],
      "text/plain": [
       "<IPython.core.display.HTML object>"
      ]
     },
     "metadata": {},
     "output_type": "display_data"
    }
   ],
   "source": [
    "# convert bounds to geometry object for usage in Earth Engine\n",
    "roiGeom = ee.Geometry.Rectangle([roiBounds[0], roiBounds[3], roiBounds[2], roiBounds[1]], 'EPSG:3035', False)"
   ]
  },
  {
   "cell_type": "markdown",
   "metadata": {},
   "source": [
    "## Prepare STMs "
   ]
  },
  {
   "cell_type": "markdown",
   "metadata": {},
   "source": [
    "### Sentinel-2"
   ]
  },
  {
   "cell_type": "code",
   "execution_count": 5,
   "metadata": {},
   "outputs": [
    {
     "data": {
      "text/html": [
       "\n",
       "            <style>\n",
       "                .geemap-dark {\n",
       "                    --jp-widgets-color: white;\n",
       "                    --jp-widgets-label-color: white;\n",
       "                    --jp-ui-font-color1: white;\n",
       "                    --jp-layout-color2: #454545;\n",
       "                    background-color: #383838;\n",
       "                }\n",
       "\n",
       "                .geemap-dark .jupyter-button {\n",
       "                    --jp-layout-color3: #383838;\n",
       "                }\n",
       "\n",
       "                .geemap-colab {\n",
       "                    background-color: var(--colab-primary-surface-color, white);\n",
       "                }\n",
       "\n",
       "                .geemap-colab .jupyter-button {\n",
       "                    --jp-layout-color3: var(--colab-primary-surface-color, white);\n",
       "                }\n",
       "            </style>\n",
       "            "
      ],
      "text/plain": [
       "<IPython.core.display.HTML object>"
      ]
     },
     "metadata": {},
     "output_type": "display_data"
    }
   ],
   "source": [
    "import folium\n",
    "\n",
    "# Get the collections\n",
    "s2c = fun_fun_fun.get_s2_sr_cld_col(roiGeom, '2021-01-01', '2021-12-31')\n",
    "\n",
    "# Apply cloud and shadow masking\n",
    "s2c_masked = s2c.map(fun_fun_fun.add_cld_shdw_mask).map(fun_fun_fun.apply_cld_shdw_mask)\n",
    "\n",
    "# Reproject to 3035\n",
    "s2c_masked = s2c_masked.map(fun_fun_fun.reproject_to_3035)\n",
    "\n",
    "# calculate EVI and NDMI\n",
    "s2c_masked = s2c_masked.map(fun_fun_fun.add_indices)\n",
    "\n",
    "# Clip the Sentinel-1 data to the bounds of the geometry\n",
    "s2c_clipped = s2c_masked.map(lambda img: fun_fun_fun.clip_to_geometry(img, roiGeom))"
   ]
  },
  {
   "cell_type": "code",
   "execution_count": 6,
   "metadata": {},
   "outputs": [
    {
     "data": {
      "text/html": [
       "\n",
       "            <style>\n",
       "                .geemap-dark {\n",
       "                    --jp-widgets-color: white;\n",
       "                    --jp-widgets-label-color: white;\n",
       "                    --jp-ui-font-color1: white;\n",
       "                    --jp-layout-color2: #454545;\n",
       "                    background-color: #383838;\n",
       "                }\n",
       "\n",
       "                .geemap-dark .jupyter-button {\n",
       "                    --jp-layout-color3: #383838;\n",
       "                }\n",
       "\n",
       "                .geemap-colab {\n",
       "                    background-color: var(--colab-primary-surface-color, white);\n",
       "                }\n",
       "\n",
       "                .geemap-colab .jupyter-button {\n",
       "                    --jp-layout-color3: var(--colab-primary-surface-color, white);\n",
       "                }\n",
       "            </style>\n",
       "            "
      ],
      "text/plain": [
       "<IPython.core.display.HTML object>"
      ]
     },
     "metadata": {},
     "output_type": "display_data"
    }
   ],
   "source": [
    "# Get seasonal STMs for Spring and Summer\n",
    "seasonal_stm = fun_fun_fun.seasonal_STM(s2c_clipped)"
   ]
  },
  {
   "cell_type": "code",
   "execution_count": 7,
   "metadata": {},
   "outputs": [
    {
     "data": {
      "text/html": [
       "\n",
       "            <style>\n",
       "                .geemap-dark {\n",
       "                    --jp-widgets-color: white;\n",
       "                    --jp-widgets-label-color: white;\n",
       "                    --jp-ui-font-color1: white;\n",
       "                    --jp-layout-color2: #454545;\n",
       "                    background-color: #383838;\n",
       "                }\n",
       "\n",
       "                .geemap-dark .jupyter-button {\n",
       "                    --jp-layout-color3: #383838;\n",
       "                }\n",
       "\n",
       "                .geemap-colab {\n",
       "                    background-color: var(--colab-primary-surface-color, white);\n",
       "                }\n",
       "\n",
       "                .geemap-colab .jupyter-button {\n",
       "                    --jp-layout-color3: var(--colab-primary-surface-color, white);\n",
       "                }\n",
       "            </style>\n",
       "            "
      ],
      "text/plain": [
       "<IPython.core.display.HTML object>"
      ]
     },
     "metadata": {},
     "output_type": "display_data"
    }
   ],
   "source": [
    "# Split the collection into two\n",
    "spring_stm = seasonal_stm.filter(ee.Filter.eq('start_month', 4))\n",
    "summer_stm = seasonal_stm.filter(ee.Filter.eq('start_month', 7))"
   ]
  },
  {
   "cell_type": "markdown",
   "metadata": {},
   "source": [
    "## Display and check if everything worked"
   ]
  },
  {
   "cell_type": "code",
   "execution_count": 8,
   "metadata": {},
   "outputs": [
    {
     "data": {
      "text/html": [
       "\n",
       "            <style>\n",
       "                .geemap-dark {\n",
       "                    --jp-widgets-color: white;\n",
       "                    --jp-widgets-label-color: white;\n",
       "                    --jp-ui-font-color1: white;\n",
       "                    --jp-layout-color2: #454545;\n",
       "                    background-color: #383838;\n",
       "                }\n",
       "\n",
       "                .geemap-dark .jupyter-button {\n",
       "                    --jp-layout-color3: #383838;\n",
       "                }\n",
       "\n",
       "                .geemap-colab {\n",
       "                    background-color: var(--colab-primary-surface-color, white);\n",
       "                }\n",
       "\n",
       "                .geemap-colab .jupyter-button {\n",
       "                    --jp-layout-color3: var(--colab-primary-surface-color, white);\n",
       "                }\n",
       "            </style>\n",
       "            "
      ],
      "text/plain": [
       "<IPython.core.display.HTML object>"
      ]
     },
     "metadata": {},
     "output_type": "display_data"
    },
    {
     "data": {
      "application/vnd.jupyter.widget-view+json": {
       "model_id": "182b88bebb9b4103981c4a0a5b13449e",
       "version_major": 2,
       "version_minor": 0
      },
      "text/plain": [
       "Map(center=[53.91140667948662, 12.952579756369222], controls=(WidgetControl(options=['position', 'transparent_…"
      ]
     },
     "execution_count": 8,
     "metadata": {},
     "output_type": "execute_result"
    }
   ],
   "source": [
    "# display the spring STM mean RGB Sentinel-2 image\n",
    "#spring_stm = spring_stm.first()\n",
    "spring_stm_rgb = spring_stm.select(['B4_mean', 'B3_mean', 'B2_mean'])\n",
    "#spring_stm_rgb = spring_stm_rgb.visualize(min=0, max=3000, bands=['B4_mean', 'B3_mean', 'B2_mean'])\n",
    "# Define visualization parameters\n",
    "vis_params = {\n",
    "    'bands': ['B4_mean', 'B3_mean', 'B2_mean'],  # Adjust bands as needed\n",
    "    'min': 0,\n",
    "    'max': 3000,\n",
    "    'gamma': 1.4\n",
    "}\n",
    "\n",
    "# Instantiate the map and set the center, we also add a satellite basemap underneath\n",
    "map02 = geemap.Map()\n",
    "map02.centerObject(ee.FeatureCollection([roiGeom]), 6)\n",
    "map02.add_basemap('SATELLITE')\n",
    "# Load the layers\n",
    "map02.addLayer(spring_stm_rgb, vis_params, f'Spring STM')\n",
    "# Call the map object\n",
    "map02\n"
   ]
  },
  {
   "cell_type": "markdown",
   "metadata": {},
   "source": [
    "## Combine with Sentinel-1 imagery"
   ]
  },
  {
   "cell_type": "code",
   "execution_count": 9,
   "metadata": {},
   "outputs": [
    {
     "data": {
      "text/html": [
       "\n",
       "            <style>\n",
       "                .geemap-dark {\n",
       "                    --jp-widgets-color: white;\n",
       "                    --jp-widgets-label-color: white;\n",
       "                    --jp-ui-font-color1: white;\n",
       "                    --jp-layout-color2: #454545;\n",
       "                    background-color: #383838;\n",
       "                }\n",
       "\n",
       "                .geemap-dark .jupyter-button {\n",
       "                    --jp-layout-color3: #383838;\n",
       "                }\n",
       "\n",
       "                .geemap-colab {\n",
       "                    background-color: var(--colab-primary-surface-color, white);\n",
       "                }\n",
       "\n",
       "                .geemap-colab .jupyter-button {\n",
       "                    --jp-layout-color3: var(--colab-primary-surface-color, white);\n",
       "                }\n",
       "            </style>\n",
       "            "
      ],
      "text/plain": [
       "<IPython.core.display.HTML object>"
      ]
     },
     "metadata": {},
     "output_type": "display_data"
    }
   ],
   "source": [
    "# Get the Sentinel-1 collections\n",
    "s1c = fun_fun_fun.get_s1_data(roiGeom, '2021-01-01', '2021-12-31')\n",
    "\n",
    "# Reproject to 3035\n",
    "s1c_reprojected = s1c.map(fun_fun_fun.reproject_to_3035)\n",
    "\n",
    "# Clip the Sentinel-1 data to the bounds of the geometry\n",
    "s1c_clipped = s1c.map(lambda img: fun_fun_fun.clip_to_geometry(img, roiGeom))\n",
    "\n",
    "# Apply seasonal STMs\n",
    "seasonal_stms_s1 = fun_fun_fun.seasonal_STM(s1c_clipped)\n",
    "\n",
    "# Split the collection into two for Spring and Summer\n",
    "spring_stm_s1 = seasonal_stms_s1.filter(ee.Filter.eq('start_month', 4))\n",
    "summer_stm_s1 = seasonal_stms_s1.filter(ee.Filter.eq('start_month', 7))\n"
   ]
  },
  {
   "cell_type": "markdown",
   "metadata": {},
   "source": [
    "## Combine Sentinel-2 and Sentinel-1 STMs"
   ]
  },
  {
   "cell_type": "markdown",
   "metadata": {},
   "source": [
    "### Seasonal STMs"
   ]
  },
  {
   "cell_type": "code",
   "execution_count": 10,
   "metadata": {},
   "outputs": [
    {
     "data": {
      "text/html": [
       "\n",
       "            <style>\n",
       "                .geemap-dark {\n",
       "                    --jp-widgets-color: white;\n",
       "                    --jp-widgets-label-color: white;\n",
       "                    --jp-ui-font-color1: white;\n",
       "                    --jp-layout-color2: #454545;\n",
       "                    background-color: #383838;\n",
       "                }\n",
       "\n",
       "                .geemap-dark .jupyter-button {\n",
       "                    --jp-layout-color3: #383838;\n",
       "                }\n",
       "\n",
       "                .geemap-colab {\n",
       "                    background-color: var(--colab-primary-surface-color, white);\n",
       "                }\n",
       "\n",
       "                .geemap-colab .jupyter-button {\n",
       "                    --jp-layout-color3: var(--colab-primary-surface-color, white);\n",
       "                }\n",
       "            </style>\n",
       "            "
      ],
      "text/plain": [
       "<IPython.core.display.HTML object>"
      ]
     },
     "metadata": {},
     "output_type": "display_data"
    }
   ],
   "source": [
    "# merge seasonal STMs\n",
    "merged_spring_stm = spring_stm.merge(spring_stm_s1)\n",
    "merged_summer_stm = summer_stm.merge(summer_stm_s1)\n",
    "\n",
    "# reproject to 3035\n",
    "merged_spring_stm = merged_spring_stm.map(fun_fun_fun.reproject_to_3035)\n",
    "merged_summer_stm = merged_summer_stm.map(fun_fun_fun.reproject_to_3035)"
   ]
  },
  {
   "cell_type": "code",
   "execution_count": 11,
   "metadata": {},
   "outputs": [
    {
     "data": {
      "text/html": [
       "\n",
       "            <style>\n",
       "                .geemap-dark {\n",
       "                    --jp-widgets-color: white;\n",
       "                    --jp-widgets-label-color: white;\n",
       "                    --jp-ui-font-color1: white;\n",
       "                    --jp-layout-color2: #454545;\n",
       "                    background-color: #383838;\n",
       "                }\n",
       "\n",
       "                .geemap-dark .jupyter-button {\n",
       "                    --jp-layout-color3: #383838;\n",
       "                }\n",
       "\n",
       "                .geemap-colab {\n",
       "                    background-color: var(--colab-primary-surface-color, white);\n",
       "                }\n",
       "\n",
       "                .geemap-colab .jupyter-button {\n",
       "                    --jp-layout-color3: var(--colab-primary-surface-color, white);\n",
       "                }\n",
       "            </style>\n",
       "            "
      ],
      "text/plain": [
       "<IPython.core.display.HTML object>"
      ]
     },
     "metadata": {},
     "output_type": "display_data"
    }
   ],
   "source": [
    "merged_spring_stm_bands = merged_spring_stm.toBands()\n",
    "merged_summer_stm_bands = merged_summer_stm.toBands()"
   ]
  },
  {
   "cell_type": "code",
   "execution_count": 12,
   "metadata": {},
   "outputs": [
    {
     "data": {
      "text/html": [
       "\n",
       "            <style>\n",
       "                .geemap-dark {\n",
       "                    --jp-widgets-color: white;\n",
       "                    --jp-widgets-label-color: white;\n",
       "                    --jp-ui-font-color1: white;\n",
       "                    --jp-layout-color2: #454545;\n",
       "                    background-color: #383838;\n",
       "                }\n",
       "\n",
       "                .geemap-dark .jupyter-button {\n",
       "                    --jp-layout-color3: #383838;\n",
       "                }\n",
       "\n",
       "                .geemap-colab {\n",
       "                    background-color: var(--colab-primary-surface-color, white);\n",
       "                }\n",
       "\n",
       "                .geemap-colab .jupyter-button {\n",
       "                    --jp-layout-color3: var(--colab-primary-surface-color, white);\n",
       "                }\n",
       "            </style>\n",
       "            "
      ],
      "text/plain": [
       "<IPython.core.display.HTML object>"
      ]
     },
     "metadata": {},
     "output_type": "display_data"
    }
   ],
   "source": [
    "merged_stm_seasonal = merged_spring_stm_bands.addBands(merged_summer_stm_bands)\n"
   ]
  },
  {
   "cell_type": "markdown",
   "metadata": {},
   "source": [
    "# Get Training Points"
   ]
  },
  {
   "cell_type": "code",
   "execution_count": null,
   "metadata": {},
   "outputs": [
    {
     "data": {
      "text/html": [
       "\n",
       "            <style>\n",
       "                .geemap-dark {\n",
       "                    --jp-widgets-color: white;\n",
       "                    --jp-widgets-label-color: white;\n",
       "                    --jp-ui-font-color1: white;\n",
       "                    --jp-layout-color2: #454545;\n",
       "                    background-color: #383838;\n",
       "                }\n",
       "\n",
       "                .geemap-dark .jupyter-button {\n",
       "                    --jp-layout-color3: #383838;\n",
       "                }\n",
       "\n",
       "                .geemap-colab {\n",
       "                    background-color: var(--colab-primary-surface-color, white);\n",
       "                }\n",
       "\n",
       "                .geemap-colab .jupyter-button {\n",
       "                    --jp-layout-color3: var(--colab-primary-surface-color, white);\n",
       "                }\n",
       "            </style>\n",
       "            "
      ],
      "text/plain": [
       "<IPython.core.display.HTML object>"
      ]
     },
     "metadata": {},
     "output_type": "display_data"
    },
    {
     "name": "stdout",
     "output_type": "stream",
     "text": [
      "550\n",
      "550\n"
     ]
    }
   ],
   "source": [
    "ptsSHP_s2 = ogr.Open('/Users/annakober/Desktop/Uni/Master/WiSe24:25/geopy_data/MAP/sampled_points_scheme_2.gpkg')\n",
    "ptsLYR_s2 = ptsSHP_s2.GetLayer()\n",
    "print(ptsLYR_s2.GetFeatureCount())\n",
    "\n",
    "# print projection\n",
    "#print(ptsLYR_s2.GetSpatialRef())"
   ]
  },
  {
   "cell_type": "markdown",
   "metadata": {},
   "source": [
    "## Convert into Feature Collection"
   ]
  },
  {
   "cell_type": "code",
   "execution_count": 58,
   "metadata": {},
   "outputs": [
    {
     "data": {
      "text/html": [
       "\n",
       "            <style>\n",
       "                .geemap-dark {\n",
       "                    --jp-widgets-color: white;\n",
       "                    --jp-widgets-label-color: white;\n",
       "                    --jp-ui-font-color1: white;\n",
       "                    --jp-layout-color2: #454545;\n",
       "                    background-color: #383838;\n",
       "                }\n",
       "\n",
       "                .geemap-dark .jupyter-button {\n",
       "                    --jp-layout-color3: #383838;\n",
       "                }\n",
       "\n",
       "                .geemap-colab {\n",
       "                    background-color: var(--colab-primary-surface-color, white);\n",
       "                }\n",
       "\n",
       "                .geemap-colab .jupyter-button {\n",
       "                    --jp-layout-color3: var(--colab-primary-surface-color, white);\n",
       "                }\n",
       "            </style>\n",
       "            "
      ],
      "text/plain": [
       "<IPython.core.display.HTML object>"
      ]
     },
     "metadata": {},
     "output_type": "display_data"
    }
   ],
   "source": [
    "# adapt function so it can be used with various coordinate systems and convert the crs to EPSG: 4326 \n",
    "def lyrTOfc(path, epsg):\n",
    "    import ee\n",
    "    import json\n",
    "    from osgeo import ogr, osr\n",
    "\n",
    "    # create empty feature collection\n",
    "    fc = ee.FeatureCollection([]) \n",
    "\n",
    "    # open path and get crs\n",
    "    ds1 = ogr.Open(path)\n",
    "    in_lyr = ds1.GetLayer()\n",
    "\n",
    "    # get original crs and target crs and make transformation\n",
    "    fromCS = in_lyr.GetSpatialRef()\n",
    "    toCS = osr.SpatialReference()\n",
    "    toCS.ImportFromEPSG(epsg)\n",
    "    ct = osr.CoordinateTransformation(fromCS, toCS)\n",
    "\n",
    "    for feat in in_lyr:\n",
    "        geom = feat.GetGeometryRef() # get geometry of feature\n",
    "        geom.Transform(ct) # transform geometry to target crs\n",
    "        geojson = json.loads(geom.ExportToJson()) # convert geometry to geojson\n",
    "        properties = {} # create empty dictionary to store properties\n",
    "        for i in range(feat.GetFieldCount()): # loop through fields in feature\n",
    "            field_name = feat.GetFieldDefnRef(i).GetName() # get field name\n",
    "            field_value = feat.GetField(i) # get field value\n",
    "            properties[field_name] = field_value # add field name and value to properties dictionary\n",
    "        ee_feat = ee.Feature(ee.Geometry(geojson), properties) # create ee.Feature from geometry and properties\n",
    "        ee_feat = ee_feat.set('system:index', None) # remove system:index property because it is not allowed in feature collection\n",
    "        fc = fc.merge(ee.FeatureCollection(ee_feat)) # merge feature into feature collection\n",
    "\n",
    "    return fc\n"
   ]
  },
  {
   "cell_type": "code",
   "execution_count": null,
   "metadata": {},
   "outputs": [
    {
     "data": {
      "text/html": [
       "\n",
       "            <style>\n",
       "                .geemap-dark {\n",
       "                    --jp-widgets-color: white;\n",
       "                    --jp-widgets-label-color: white;\n",
       "                    --jp-ui-font-color1: white;\n",
       "                    --jp-layout-color2: #454545;\n",
       "                    background-color: #383838;\n",
       "                }\n",
       "\n",
       "                .geemap-dark .jupyter-button {\n",
       "                    --jp-layout-color3: #383838;\n",
       "                }\n",
       "\n",
       "                .geemap-colab {\n",
       "                    background-color: var(--colab-primary-surface-color, white);\n",
       "                }\n",
       "\n",
       "                .geemap-colab .jupyter-button {\n",
       "                    --jp-layout-color3: var(--colab-primary-surface-color, white);\n",
       "                }\n",
       "            </style>\n",
       "            "
      ],
      "text/plain": [
       "<IPython.core.display.HTML object>"
      ]
     },
     "metadata": {},
     "output_type": "display_data"
    }
   ],
   "source": [
    "# use function\n",
    "fc_s2 = lyrTOfc('/Users/annakober/Desktop/Uni/Master/WiSe24:25/geopy_data/MAP/sampled_points_scheme_2.gpkg', 4326)"
   ]
  },
  {
   "cell_type": "markdown",
   "metadata": {},
   "source": [
    "## Extract values at point location for seasonal STMs"
   ]
  },
  {
   "cell_type": "markdown",
   "metadata": {},
   "source": [
    "#### Spring and Summer"
   ]
  },
  {
   "cell_type": "code",
   "execution_count": 21,
   "metadata": {},
   "outputs": [
    {
     "data": {
      "text/html": [
       "\n",
       "            <style>\n",
       "                .geemap-dark {\n",
       "                    --jp-widgets-color: white;\n",
       "                    --jp-widgets-label-color: white;\n",
       "                    --jp-ui-font-color1: white;\n",
       "                    --jp-layout-color2: #454545;\n",
       "                    background-color: #383838;\n",
       "                }\n",
       "\n",
       "                .geemap-dark .jupyter-button {\n",
       "                    --jp-layout-color3: #383838;\n",
       "                }\n",
       "\n",
       "                .geemap-colab {\n",
       "                    background-color: var(--colab-primary-surface-color, white);\n",
       "                }\n",
       "\n",
       "                .geemap-colab .jupyter-button {\n",
       "                    --jp-layout-color3: var(--colab-primary-surface-color, white);\n",
       "                }\n",
       "            </style>\n",
       "            "
      ],
      "text/plain": [
       "<IPython.core.display.HTML object>"
      ]
     },
     "metadata": {},
     "output_type": "display_data"
    }
   ],
   "source": [
    "vals_spring_s2 = merged_spring_stm_bands.sampleRegions(collection=fc_s2, properties=['class'], scale=10, tileScale=4, geometries=False).getInfo()\n",
    "vals_summer_s2 = merged_summer_stm_bands.sampleRegions(collection=fc_s2, properties=['class'], scale=10, tileScale=4, geometries=False).getInfo()\n"
   ]
  },
  {
   "cell_type": "code",
   "execution_count": 22,
   "metadata": {},
   "outputs": [
    {
     "data": {
      "text/html": [
       "\n",
       "            <style>\n",
       "                .geemap-dark {\n",
       "                    --jp-widgets-color: white;\n",
       "                    --jp-widgets-label-color: white;\n",
       "                    --jp-ui-font-color1: white;\n",
       "                    --jp-layout-color2: #454545;\n",
       "                    background-color: #383838;\n",
       "                }\n",
       "\n",
       "                .geemap-dark .jupyter-button {\n",
       "                    --jp-layout-color3: #383838;\n",
       "                }\n",
       "\n",
       "                .geemap-colab {\n",
       "                    background-color: var(--colab-primary-surface-color, white);\n",
       "                }\n",
       "\n",
       "                .geemap-colab .jupyter-button {\n",
       "                    --jp-layout-color3: var(--colab-primary-surface-color, white);\n",
       "                }\n",
       "            </style>\n",
       "            "
      ],
      "text/plain": [
       "<IPython.core.display.HTML object>"
      ]
     },
     "metadata": {},
     "output_type": "display_data"
    },
    {
     "data": {
      "text/html": [
       "<div>\n",
       "<style scoped>\n",
       "    .dataframe tbody tr th:only-of-type {\n",
       "        vertical-align: middle;\n",
       "    }\n",
       "\n",
       "    .dataframe tbody tr th {\n",
       "        vertical-align: top;\n",
       "    }\n",
       "\n",
       "    .dataframe thead th {\n",
       "        text-align: right;\n",
       "    }\n",
       "</style>\n",
       "<table border=\"1\" class=\"dataframe\">\n",
       "  <thead>\n",
       "    <tr style=\"text-align: right;\">\n",
       "      <th></th>\n",
       "      <th>1_0_B11_mean</th>\n",
       "      <th>1_0_B11_p10</th>\n",
       "      <th>1_0_B11_p25</th>\n",
       "      <th>1_0_B11_p50</th>\n",
       "      <th>1_0_B11_p75</th>\n",
       "      <th>1_0_B11_p90</th>\n",
       "      <th>1_0_B11_stdDev</th>\n",
       "      <th>1_0_B12_mean</th>\n",
       "      <th>1_0_B12_p10</th>\n",
       "      <th>1_0_B12_p25</th>\n",
       "      <th>...</th>\n",
       "      <th>2_0_VH_p90</th>\n",
       "      <th>2_0_VH_stdDev</th>\n",
       "      <th>2_0_VV_mean</th>\n",
       "      <th>2_0_VV_p10</th>\n",
       "      <th>2_0_VV_p25</th>\n",
       "      <th>2_0_VV_p50</th>\n",
       "      <th>2_0_VV_p75</th>\n",
       "      <th>2_0_VV_p90</th>\n",
       "      <th>2_0_VV_stdDev</th>\n",
       "      <th>class</th>\n",
       "    </tr>\n",
       "  </thead>\n",
       "  <tbody>\n",
       "    <tr>\n",
       "      <th>0</th>\n",
       "      <td>2538.500000</td>\n",
       "      <td>1789.5</td>\n",
       "      <td>2071.0</td>\n",
       "      <td>2252.5</td>\n",
       "      <td>3122.0</td>\n",
       "      <td>3570.5</td>\n",
       "      <td>662.914964</td>\n",
       "      <td>1534.900000</td>\n",
       "      <td>895.0</td>\n",
       "      <td>1097.0</td>\n",
       "      <td>...</td>\n",
       "      <td>-13.999542</td>\n",
       "      <td>2.980351</td>\n",
       "      <td>-12.603742</td>\n",
       "      <td>-15.996234</td>\n",
       "      <td>-14.039904</td>\n",
       "      <td>-12.566989</td>\n",
       "      <td>-10.394095</td>\n",
       "      <td>-9.491818</td>\n",
       "      <td>2.467416</td>\n",
       "      <td>1</td>\n",
       "    </tr>\n",
       "    <tr>\n",
       "      <th>0</th>\n",
       "      <td>2283.571429</td>\n",
       "      <td>1758.0</td>\n",
       "      <td>1935.0</td>\n",
       "      <td>2179.5</td>\n",
       "      <td>2621.0</td>\n",
       "      <td>2927.0</td>\n",
       "      <td>398.027945</td>\n",
       "      <td>1327.071429</td>\n",
       "      <td>898.0</td>\n",
       "      <td>988.0</td>\n",
       "      <td>...</td>\n",
       "      <td>-14.625216</td>\n",
       "      <td>2.260348</td>\n",
       "      <td>-11.259213</td>\n",
       "      <td>-14.924210</td>\n",
       "      <td>-13.517386</td>\n",
       "      <td>-11.170302</td>\n",
       "      <td>-9.049316</td>\n",
       "      <td>-7.017263</td>\n",
       "      <td>3.184536</td>\n",
       "      <td>1</td>\n",
       "    </tr>\n",
       "    <tr>\n",
       "      <th>0</th>\n",
       "      <td>2213.214286</td>\n",
       "      <td>1570.0</td>\n",
       "      <td>1749.0</td>\n",
       "      <td>1996.0</td>\n",
       "      <td>2645.0</td>\n",
       "      <td>2906.0</td>\n",
       "      <td>488.962338</td>\n",
       "      <td>1265.357143</td>\n",
       "      <td>782.0</td>\n",
       "      <td>895.0</td>\n",
       "      <td>...</td>\n",
       "      <td>-13.413938</td>\n",
       "      <td>2.018526</td>\n",
       "      <td>-9.797167</td>\n",
       "      <td>-12.814116</td>\n",
       "      <td>-11.101341</td>\n",
       "      <td>-9.764776</td>\n",
       "      <td>-8.499385</td>\n",
       "      <td>-7.044710</td>\n",
       "      <td>2.110766</td>\n",
       "      <td>1</td>\n",
       "    </tr>\n",
       "    <tr>\n",
       "      <th>0</th>\n",
       "      <td>2134.000000</td>\n",
       "      <td>1624.5</td>\n",
       "      <td>1734.0</td>\n",
       "      <td>2028.5</td>\n",
       "      <td>2429.0</td>\n",
       "      <td>2773.5</td>\n",
       "      <td>414.020772</td>\n",
       "      <td>1152.000000</td>\n",
       "      <td>796.0</td>\n",
       "      <td>869.0</td>\n",
       "      <td>...</td>\n",
       "      <td>-16.151298</td>\n",
       "      <td>2.437366</td>\n",
       "      <td>-12.450929</td>\n",
       "      <td>-15.757983</td>\n",
       "      <td>-13.769895</td>\n",
       "      <td>-12.129517</td>\n",
       "      <td>-10.727398</td>\n",
       "      <td>-9.701439</td>\n",
       "      <td>2.585377</td>\n",
       "      <td>1</td>\n",
       "    </tr>\n",
       "    <tr>\n",
       "      <th>0</th>\n",
       "      <td>2419.416667</td>\n",
       "      <td>1872.0</td>\n",
       "      <td>2064.0</td>\n",
       "      <td>2226.0</td>\n",
       "      <td>2894.5</td>\n",
       "      <td>3090.0</td>\n",
       "      <td>500.049741</td>\n",
       "      <td>1468.583333</td>\n",
       "      <td>935.0</td>\n",
       "      <td>1076.0</td>\n",
       "      <td>...</td>\n",
       "      <td>-13.906836</td>\n",
       "      <td>2.271766</td>\n",
       "      <td>-12.342341</td>\n",
       "      <td>-14.299734</td>\n",
       "      <td>-13.356671</td>\n",
       "      <td>-12.316803</td>\n",
       "      <td>-11.216115</td>\n",
       "      <td>-10.774525</td>\n",
       "      <td>1.679099</td>\n",
       "      <td>1</td>\n",
       "    </tr>\n",
       "    <tr>\n",
       "      <th>0</th>\n",
       "      <td>1867.833333</td>\n",
       "      <td>1447.0</td>\n",
       "      <td>1683.0</td>\n",
       "      <td>1844.5</td>\n",
       "      <td>2087.0</td>\n",
       "      <td>2191.0</td>\n",
       "      <td>290.203042</td>\n",
       "      <td>975.250000</td>\n",
       "      <td>730.0</td>\n",
       "      <td>818.0</td>\n",
       "      <td>...</td>\n",
       "      <td>-16.336977</td>\n",
       "      <td>2.615194</td>\n",
       "      <td>-14.396739</td>\n",
       "      <td>-17.749394</td>\n",
       "      <td>-16.169410</td>\n",
       "      <td>-13.884162</td>\n",
       "      <td>-12.686448</td>\n",
       "      <td>-11.897296</td>\n",
       "      <td>2.466508</td>\n",
       "      <td>1</td>\n",
       "    </tr>\n",
       "    <tr>\n",
       "      <th>0</th>\n",
       "      <td>2733.857143</td>\n",
       "      <td>1834.0</td>\n",
       "      <td>2233.0</td>\n",
       "      <td>2460.5</td>\n",
       "      <td>3376.0</td>\n",
       "      <td>3674.0</td>\n",
       "      <td>658.411601</td>\n",
       "      <td>1652.928571</td>\n",
       "      <td>935.0</td>\n",
       "      <td>1170.0</td>\n",
       "      <td>...</td>\n",
       "      <td>-14.376517</td>\n",
       "      <td>3.672154</td>\n",
       "      <td>-12.528884</td>\n",
       "      <td>-15.451162</td>\n",
       "      <td>-14.093992</td>\n",
       "      <td>-12.685454</td>\n",
       "      <td>-11.032620</td>\n",
       "      <td>-8.745044</td>\n",
       "      <td>2.538118</td>\n",
       "      <td>1</td>\n",
       "    </tr>\n",
       "    <tr>\n",
       "      <th>0</th>\n",
       "      <td>2472.285714</td>\n",
       "      <td>1680.0</td>\n",
       "      <td>2000.0</td>\n",
       "      <td>2314.0</td>\n",
       "      <td>3027.0</td>\n",
       "      <td>3299.0</td>\n",
       "      <td>605.930740</td>\n",
       "      <td>1531.785714</td>\n",
       "      <td>928.0</td>\n",
       "      <td>1089.0</td>\n",
       "      <td>...</td>\n",
       "      <td>-14.996265</td>\n",
       "      <td>2.038594</td>\n",
       "      <td>-11.148162</td>\n",
       "      <td>-13.960053</td>\n",
       "      <td>-12.744004</td>\n",
       "      <td>-11.237299</td>\n",
       "      <td>-9.503399</td>\n",
       "      <td>-8.513437</td>\n",
       "      <td>2.179961</td>\n",
       "      <td>1</td>\n",
       "    </tr>\n",
       "    <tr>\n",
       "      <th>0</th>\n",
       "      <td>2128.125000</td>\n",
       "      <td>1617.0</td>\n",
       "      <td>1761.5</td>\n",
       "      <td>1966.5</td>\n",
       "      <td>2468.0</td>\n",
       "      <td>3016.0</td>\n",
       "      <td>486.423282</td>\n",
       "      <td>1167.375000</td>\n",
       "      <td>845.0</td>\n",
       "      <td>913.5</td>\n",
       "      <td>...</td>\n",
       "      <td>-14.485955</td>\n",
       "      <td>3.885596</td>\n",
       "      <td>-11.749103</td>\n",
       "      <td>-14.414923</td>\n",
       "      <td>-13.397179</td>\n",
       "      <td>-12.337215</td>\n",
       "      <td>-10.290562</td>\n",
       "      <td>-7.996076</td>\n",
       "      <td>2.329406</td>\n",
       "      <td>1</td>\n",
       "    </tr>\n",
       "    <tr>\n",
       "      <th>0</th>\n",
       "      <td>2016.357143</td>\n",
       "      <td>1150.0</td>\n",
       "      <td>1798.0</td>\n",
       "      <td>2076.5</td>\n",
       "      <td>2372.0</td>\n",
       "      <td>2415.0</td>\n",
       "      <td>417.365993</td>\n",
       "      <td>1068.785714</td>\n",
       "      <td>668.0</td>\n",
       "      <td>892.0</td>\n",
       "      <td>...</td>\n",
       "      <td>-15.107602</td>\n",
       "      <td>1.851762</td>\n",
       "      <td>-11.615155</td>\n",
       "      <td>-15.401502</td>\n",
       "      <td>-13.310791</td>\n",
       "      <td>-10.984678</td>\n",
       "      <td>-9.603920</td>\n",
       "      <td>-8.556033</td>\n",
       "      <td>2.769223</td>\n",
       "      <td>1</td>\n",
       "    </tr>\n",
       "  </tbody>\n",
       "</table>\n",
       "<p>10 rows × 85 columns</p>\n",
       "</div>"
      ],
      "text/plain": [
       "   1_0_B11_mean  1_0_B11_p10  1_0_B11_p25  1_0_B11_p50  1_0_B11_p75  \\\n",
       "0   2538.500000       1789.5       2071.0       2252.5       3122.0   \n",
       "0   2283.571429       1758.0       1935.0       2179.5       2621.0   \n",
       "0   2213.214286       1570.0       1749.0       1996.0       2645.0   \n",
       "0   2134.000000       1624.5       1734.0       2028.5       2429.0   \n",
       "0   2419.416667       1872.0       2064.0       2226.0       2894.5   \n",
       "0   1867.833333       1447.0       1683.0       1844.5       2087.0   \n",
       "0   2733.857143       1834.0       2233.0       2460.5       3376.0   \n",
       "0   2472.285714       1680.0       2000.0       2314.0       3027.0   \n",
       "0   2128.125000       1617.0       1761.5       1966.5       2468.0   \n",
       "0   2016.357143       1150.0       1798.0       2076.5       2372.0   \n",
       "\n",
       "   1_0_B11_p90  1_0_B11_stdDev  1_0_B12_mean  1_0_B12_p10  1_0_B12_p25  ...  \\\n",
       "0       3570.5      662.914964   1534.900000        895.0       1097.0  ...   \n",
       "0       2927.0      398.027945   1327.071429        898.0        988.0  ...   \n",
       "0       2906.0      488.962338   1265.357143        782.0        895.0  ...   \n",
       "0       2773.5      414.020772   1152.000000        796.0        869.0  ...   \n",
       "0       3090.0      500.049741   1468.583333        935.0       1076.0  ...   \n",
       "0       2191.0      290.203042    975.250000        730.0        818.0  ...   \n",
       "0       3674.0      658.411601   1652.928571        935.0       1170.0  ...   \n",
       "0       3299.0      605.930740   1531.785714        928.0       1089.0  ...   \n",
       "0       3016.0      486.423282   1167.375000        845.0        913.5  ...   \n",
       "0       2415.0      417.365993   1068.785714        668.0        892.0  ...   \n",
       "\n",
       "   2_0_VH_p90  2_0_VH_stdDev  2_0_VV_mean  2_0_VV_p10  2_0_VV_p25  2_0_VV_p50  \\\n",
       "0  -13.999542       2.980351   -12.603742  -15.996234  -14.039904  -12.566989   \n",
       "0  -14.625216       2.260348   -11.259213  -14.924210  -13.517386  -11.170302   \n",
       "0  -13.413938       2.018526    -9.797167  -12.814116  -11.101341   -9.764776   \n",
       "0  -16.151298       2.437366   -12.450929  -15.757983  -13.769895  -12.129517   \n",
       "0  -13.906836       2.271766   -12.342341  -14.299734  -13.356671  -12.316803   \n",
       "0  -16.336977       2.615194   -14.396739  -17.749394  -16.169410  -13.884162   \n",
       "0  -14.376517       3.672154   -12.528884  -15.451162  -14.093992  -12.685454   \n",
       "0  -14.996265       2.038594   -11.148162  -13.960053  -12.744004  -11.237299   \n",
       "0  -14.485955       3.885596   -11.749103  -14.414923  -13.397179  -12.337215   \n",
       "0  -15.107602       1.851762   -11.615155  -15.401502  -13.310791  -10.984678   \n",
       "\n",
       "   2_0_VV_p75  2_0_VV_p90  2_0_VV_stdDev  class  \n",
       "0  -10.394095   -9.491818       2.467416      1  \n",
       "0   -9.049316   -7.017263       3.184536      1  \n",
       "0   -8.499385   -7.044710       2.110766      1  \n",
       "0  -10.727398   -9.701439       2.585377      1  \n",
       "0  -11.216115  -10.774525       1.679099      1  \n",
       "0  -12.686448  -11.897296       2.466508      1  \n",
       "0  -11.032620   -8.745044       2.538118      1  \n",
       "0   -9.503399   -8.513437       2.179961      1  \n",
       "0  -10.290562   -7.996076       2.329406      1  \n",
       "0   -9.603920   -8.556033       2.769223      1  \n",
       "\n",
       "[10 rows x 85 columns]"
      ]
     },
     "execution_count": 22,
     "metadata": {},
     "output_type": "execute_result"
    }
   ],
   "source": [
    "flag = 0\n",
    "featureValues = vals_spring_s2['features']\n",
    "for f in featureValues:         \n",
    " # Check here always the right order of the indices\n",
    "    prop = f['properties']\n",
    "    if flag == 0:\n",
    "        spring_s2_df = pd.DataFrame(prop, index=[0])\n",
    "        flag = 1\n",
    "    else:\n",
    "        spring_s2_df = pd.concat([spring_s2_df, pd.DataFrame(prop, index=[0])])\n",
    "spring_s2_df.head(10)"
   ]
  },
  {
   "cell_type": "code",
   "execution_count": 23,
   "metadata": {},
   "outputs": [
    {
     "data": {
      "text/html": [
       "\n",
       "            <style>\n",
       "                .geemap-dark {\n",
       "                    --jp-widgets-color: white;\n",
       "                    --jp-widgets-label-color: white;\n",
       "                    --jp-ui-font-color1: white;\n",
       "                    --jp-layout-color2: #454545;\n",
       "                    background-color: #383838;\n",
       "                }\n",
       "\n",
       "                .geemap-dark .jupyter-button {\n",
       "                    --jp-layout-color3: #383838;\n",
       "                }\n",
       "\n",
       "                .geemap-colab {\n",
       "                    background-color: var(--colab-primary-surface-color, white);\n",
       "                }\n",
       "\n",
       "                .geemap-colab .jupyter-button {\n",
       "                    --jp-layout-color3: var(--colab-primary-surface-color, white);\n",
       "                }\n",
       "            </style>\n",
       "            "
      ],
      "text/plain": [
       "<IPython.core.display.HTML object>"
      ]
     },
     "metadata": {},
     "output_type": "display_data"
    },
    {
     "data": {
      "text/html": [
       "<div>\n",
       "<style scoped>\n",
       "    .dataframe tbody tr th:only-of-type {\n",
       "        vertical-align: middle;\n",
       "    }\n",
       "\n",
       "    .dataframe tbody tr th {\n",
       "        vertical-align: top;\n",
       "    }\n",
       "\n",
       "    .dataframe thead th {\n",
       "        text-align: right;\n",
       "    }\n",
       "</style>\n",
       "<table border=\"1\" class=\"dataframe\">\n",
       "  <thead>\n",
       "    <tr style=\"text-align: right;\">\n",
       "      <th></th>\n",
       "      <th>1_1_B11_mean</th>\n",
       "      <th>1_1_B11_p10</th>\n",
       "      <th>1_1_B11_p25</th>\n",
       "      <th>1_1_B11_p50</th>\n",
       "      <th>1_1_B11_p75</th>\n",
       "      <th>1_1_B11_p90</th>\n",
       "      <th>1_1_B11_stdDev</th>\n",
       "      <th>1_1_B12_mean</th>\n",
       "      <th>1_1_B12_p10</th>\n",
       "      <th>1_1_B12_p25</th>\n",
       "      <th>...</th>\n",
       "      <th>2_1_VH_p90</th>\n",
       "      <th>2_1_VH_stdDev</th>\n",
       "      <th>2_1_VV_mean</th>\n",
       "      <th>2_1_VV_p10</th>\n",
       "      <th>2_1_VV_p25</th>\n",
       "      <th>2_1_VV_p50</th>\n",
       "      <th>2_1_VV_p75</th>\n",
       "      <th>2_1_VV_p90</th>\n",
       "      <th>2_1_VV_stdDev</th>\n",
       "      <th>class</th>\n",
       "    </tr>\n",
       "  </thead>\n",
       "  <tbody>\n",
       "    <tr>\n",
       "      <th>0</th>\n",
       "      <td>2668.333333</td>\n",
       "      <td>2495.0</td>\n",
       "      <td>2567.0</td>\n",
       "      <td>2688.0</td>\n",
       "      <td>2782.0</td>\n",
       "      <td>2790.0</td>\n",
       "      <td>116.625707</td>\n",
       "      <td>1353.333333</td>\n",
       "      <td>1191.0</td>\n",
       "      <td>1298.0</td>\n",
       "      <td>...</td>\n",
       "      <td>-15.580761</td>\n",
       "      <td>2.104450</td>\n",
       "      <td>-10.779090</td>\n",
       "      <td>-13.565019</td>\n",
       "      <td>-11.983315</td>\n",
       "      <td>-11.123154</td>\n",
       "      <td>-9.036569</td>\n",
       "      <td>-7.569821</td>\n",
       "      <td>2.192904</td>\n",
       "      <td>1</td>\n",
       "    </tr>\n",
       "    <tr>\n",
       "      <th>0</th>\n",
       "      <td>2730.166667</td>\n",
       "      <td>2601.0</td>\n",
       "      <td>2655.0</td>\n",
       "      <td>2727.0</td>\n",
       "      <td>2816.0</td>\n",
       "      <td>2855.0</td>\n",
       "      <td>88.085974</td>\n",
       "      <td>1483.000000</td>\n",
       "      <td>1256.0</td>\n",
       "      <td>1277.0</td>\n",
       "      <td>...</td>\n",
       "      <td>-15.861392</td>\n",
       "      <td>1.894411</td>\n",
       "      <td>-11.784850</td>\n",
       "      <td>-14.690579</td>\n",
       "      <td>-12.824347</td>\n",
       "      <td>-11.666077</td>\n",
       "      <td>-10.179588</td>\n",
       "      <td>-8.965111</td>\n",
       "      <td>2.342389</td>\n",
       "      <td>1</td>\n",
       "    </tr>\n",
       "    <tr>\n",
       "      <th>0</th>\n",
       "      <td>2293.333333</td>\n",
       "      <td>2166.0</td>\n",
       "      <td>2166.0</td>\n",
       "      <td>2300.0</td>\n",
       "      <td>2404.0</td>\n",
       "      <td>2424.0</td>\n",
       "      <td>114.309035</td>\n",
       "      <td>1129.666667</td>\n",
       "      <td>1083.0</td>\n",
       "      <td>1092.0</td>\n",
       "      <td>...</td>\n",
       "      <td>-12.726439</td>\n",
       "      <td>1.705297</td>\n",
       "      <td>-9.091552</td>\n",
       "      <td>-12.598413</td>\n",
       "      <td>-10.416954</td>\n",
       "      <td>-9.595176</td>\n",
       "      <td>-7.493980</td>\n",
       "      <td>-5.789119</td>\n",
       "      <td>2.216639</td>\n",
       "      <td>1</td>\n",
       "    </tr>\n",
       "    <tr>\n",
       "      <th>0</th>\n",
       "      <td>2282.000000</td>\n",
       "      <td>2173.0</td>\n",
       "      <td>2210.0</td>\n",
       "      <td>2274.5</td>\n",
       "      <td>2354.0</td>\n",
       "      <td>2406.0</td>\n",
       "      <td>84.973525</td>\n",
       "      <td>1184.500000</td>\n",
       "      <td>1058.0</td>\n",
       "      <td>1118.0</td>\n",
       "      <td>...</td>\n",
       "      <td>-14.408753</td>\n",
       "      <td>2.088658</td>\n",
       "      <td>-11.756355</td>\n",
       "      <td>-13.533400</td>\n",
       "      <td>-13.131776</td>\n",
       "      <td>-11.986475</td>\n",
       "      <td>-10.284403</td>\n",
       "      <td>-9.265685</td>\n",
       "      <td>1.804736</td>\n",
       "      <td>1</td>\n",
       "    </tr>\n",
       "    <tr>\n",
       "      <th>0</th>\n",
       "      <td>2808.500000</td>\n",
       "      <td>2563.0</td>\n",
       "      <td>2652.0</td>\n",
       "      <td>2795.5</td>\n",
       "      <td>3013.0</td>\n",
       "      <td>3032.0</td>\n",
       "      <td>184.823114</td>\n",
       "      <td>1448.000000</td>\n",
       "      <td>1239.0</td>\n",
       "      <td>1337.0</td>\n",
       "      <td>...</td>\n",
       "      <td>-13.729692</td>\n",
       "      <td>2.779663</td>\n",
       "      <td>-10.493286</td>\n",
       "      <td>-13.185700</td>\n",
       "      <td>-12.325145</td>\n",
       "      <td>-10.284741</td>\n",
       "      <td>-9.405126</td>\n",
       "      <td>-7.460775</td>\n",
       "      <td>2.251117</td>\n",
       "      <td>1</td>\n",
       "    </tr>\n",
       "    <tr>\n",
       "      <th>0</th>\n",
       "      <td>2464.500000</td>\n",
       "      <td>2424.0</td>\n",
       "      <td>2448.0</td>\n",
       "      <td>2463.0</td>\n",
       "      <td>2488.0</td>\n",
       "      <td>2501.0</td>\n",
       "      <td>25.408332</td>\n",
       "      <td>1268.333333</td>\n",
       "      <td>1194.0</td>\n",
       "      <td>1236.0</td>\n",
       "      <td>...</td>\n",
       "      <td>-17.358630</td>\n",
       "      <td>1.400568</td>\n",
       "      <td>-13.095946</td>\n",
       "      <td>-15.927275</td>\n",
       "      <td>-14.579719</td>\n",
       "      <td>-13.706028</td>\n",
       "      <td>-11.448494</td>\n",
       "      <td>-9.909904</td>\n",
       "      <td>2.240687</td>\n",
       "      <td>1</td>\n",
       "    </tr>\n",
       "    <tr>\n",
       "      <th>0</th>\n",
       "      <td>2809.000000</td>\n",
       "      <td>2699.0</td>\n",
       "      <td>2715.0</td>\n",
       "      <td>2843.5</td>\n",
       "      <td>2872.0</td>\n",
       "      <td>2881.0</td>\n",
       "      <td>73.659125</td>\n",
       "      <td>1545.000000</td>\n",
       "      <td>1337.0</td>\n",
       "      <td>1343.0</td>\n",
       "      <td>...</td>\n",
       "      <td>-15.035936</td>\n",
       "      <td>2.104244</td>\n",
       "      <td>-10.077426</td>\n",
       "      <td>-12.312918</td>\n",
       "      <td>-11.481572</td>\n",
       "      <td>-10.150554</td>\n",
       "      <td>-8.663372</td>\n",
       "      <td>-7.653517</td>\n",
       "      <td>1.997325</td>\n",
       "      <td>1</td>\n",
       "    </tr>\n",
       "    <tr>\n",
       "      <th>0</th>\n",
       "      <td>2366.333333</td>\n",
       "      <td>2049.0</td>\n",
       "      <td>2188.0</td>\n",
       "      <td>2398.0</td>\n",
       "      <td>2537.0</td>\n",
       "      <td>2628.0</td>\n",
       "      <td>209.505502</td>\n",
       "      <td>1257.333333</td>\n",
       "      <td>1087.0</td>\n",
       "      <td>1096.0</td>\n",
       "      <td>...</td>\n",
       "      <td>-15.578227</td>\n",
       "      <td>2.066563</td>\n",
       "      <td>-11.451093</td>\n",
       "      <td>-14.000169</td>\n",
       "      <td>-12.749550</td>\n",
       "      <td>-11.618650</td>\n",
       "      <td>-10.201382</td>\n",
       "      <td>-8.512607</td>\n",
       "      <td>1.893666</td>\n",
       "      <td>1</td>\n",
       "    </tr>\n",
       "    <tr>\n",
       "      <th>0</th>\n",
       "      <td>2489.500000</td>\n",
       "      <td>2202.0</td>\n",
       "      <td>2391.0</td>\n",
       "      <td>2489.0</td>\n",
       "      <td>2610.0</td>\n",
       "      <td>2756.0</td>\n",
       "      <td>173.811919</td>\n",
       "      <td>1287.500000</td>\n",
       "      <td>1144.0</td>\n",
       "      <td>1179.0</td>\n",
       "      <td>...</td>\n",
       "      <td>-13.922998</td>\n",
       "      <td>2.489996</td>\n",
       "      <td>-10.085537</td>\n",
       "      <td>-13.616584</td>\n",
       "      <td>-12.271490</td>\n",
       "      <td>-9.758794</td>\n",
       "      <td>-7.788321</td>\n",
       "      <td>-6.690557</td>\n",
       "      <td>2.779559</td>\n",
       "      <td>1</td>\n",
       "    </tr>\n",
       "    <tr>\n",
       "      <th>0</th>\n",
       "      <td>2676.800000</td>\n",
       "      <td>2354.0</td>\n",
       "      <td>2371.0</td>\n",
       "      <td>2860.0</td>\n",
       "      <td>2861.0</td>\n",
       "      <td>2938.0</td>\n",
       "      <td>258.236636</td>\n",
       "      <td>1371.600000</td>\n",
       "      <td>1183.0</td>\n",
       "      <td>1186.0</td>\n",
       "      <td>...</td>\n",
       "      <td>-17.525415</td>\n",
       "      <td>2.900697</td>\n",
       "      <td>-12.873943</td>\n",
       "      <td>-16.198354</td>\n",
       "      <td>-14.701081</td>\n",
       "      <td>-12.715343</td>\n",
       "      <td>-11.457344</td>\n",
       "      <td>-9.702970</td>\n",
       "      <td>2.345097</td>\n",
       "      <td>1</td>\n",
       "    </tr>\n",
       "  </tbody>\n",
       "</table>\n",
       "<p>10 rows × 85 columns</p>\n",
       "</div>"
      ],
      "text/plain": [
       "   1_1_B11_mean  1_1_B11_p10  1_1_B11_p25  1_1_B11_p50  1_1_B11_p75  \\\n",
       "0   2668.333333       2495.0       2567.0       2688.0       2782.0   \n",
       "0   2730.166667       2601.0       2655.0       2727.0       2816.0   \n",
       "0   2293.333333       2166.0       2166.0       2300.0       2404.0   \n",
       "0   2282.000000       2173.0       2210.0       2274.5       2354.0   \n",
       "0   2808.500000       2563.0       2652.0       2795.5       3013.0   \n",
       "0   2464.500000       2424.0       2448.0       2463.0       2488.0   \n",
       "0   2809.000000       2699.0       2715.0       2843.5       2872.0   \n",
       "0   2366.333333       2049.0       2188.0       2398.0       2537.0   \n",
       "0   2489.500000       2202.0       2391.0       2489.0       2610.0   \n",
       "0   2676.800000       2354.0       2371.0       2860.0       2861.0   \n",
       "\n",
       "   1_1_B11_p90  1_1_B11_stdDev  1_1_B12_mean  1_1_B12_p10  1_1_B12_p25  ...  \\\n",
       "0       2790.0      116.625707   1353.333333       1191.0       1298.0  ...   \n",
       "0       2855.0       88.085974   1483.000000       1256.0       1277.0  ...   \n",
       "0       2424.0      114.309035   1129.666667       1083.0       1092.0  ...   \n",
       "0       2406.0       84.973525   1184.500000       1058.0       1118.0  ...   \n",
       "0       3032.0      184.823114   1448.000000       1239.0       1337.0  ...   \n",
       "0       2501.0       25.408332   1268.333333       1194.0       1236.0  ...   \n",
       "0       2881.0       73.659125   1545.000000       1337.0       1343.0  ...   \n",
       "0       2628.0      209.505502   1257.333333       1087.0       1096.0  ...   \n",
       "0       2756.0      173.811919   1287.500000       1144.0       1179.0  ...   \n",
       "0       2938.0      258.236636   1371.600000       1183.0       1186.0  ...   \n",
       "\n",
       "   2_1_VH_p90  2_1_VH_stdDev  2_1_VV_mean  2_1_VV_p10  2_1_VV_p25  2_1_VV_p50  \\\n",
       "0  -15.580761       2.104450   -10.779090  -13.565019  -11.983315  -11.123154   \n",
       "0  -15.861392       1.894411   -11.784850  -14.690579  -12.824347  -11.666077   \n",
       "0  -12.726439       1.705297    -9.091552  -12.598413  -10.416954   -9.595176   \n",
       "0  -14.408753       2.088658   -11.756355  -13.533400  -13.131776  -11.986475   \n",
       "0  -13.729692       2.779663   -10.493286  -13.185700  -12.325145  -10.284741   \n",
       "0  -17.358630       1.400568   -13.095946  -15.927275  -14.579719  -13.706028   \n",
       "0  -15.035936       2.104244   -10.077426  -12.312918  -11.481572  -10.150554   \n",
       "0  -15.578227       2.066563   -11.451093  -14.000169  -12.749550  -11.618650   \n",
       "0  -13.922998       2.489996   -10.085537  -13.616584  -12.271490   -9.758794   \n",
       "0  -17.525415       2.900697   -12.873943  -16.198354  -14.701081  -12.715343   \n",
       "\n",
       "   2_1_VV_p75  2_1_VV_p90  2_1_VV_stdDev  class  \n",
       "0   -9.036569   -7.569821       2.192904      1  \n",
       "0  -10.179588   -8.965111       2.342389      1  \n",
       "0   -7.493980   -5.789119       2.216639      1  \n",
       "0  -10.284403   -9.265685       1.804736      1  \n",
       "0   -9.405126   -7.460775       2.251117      1  \n",
       "0  -11.448494   -9.909904       2.240687      1  \n",
       "0   -8.663372   -7.653517       1.997325      1  \n",
       "0  -10.201382   -8.512607       1.893666      1  \n",
       "0   -7.788321   -6.690557       2.779559      1  \n",
       "0  -11.457344   -9.702970       2.345097      1  \n",
       "\n",
       "[10 rows x 85 columns]"
      ]
     },
     "execution_count": 23,
     "metadata": {},
     "output_type": "execute_result"
    }
   ],
   "source": [
    "flag = 0\n",
    "featureValues = vals_summer_s2['features']\n",
    "for f in featureValues:         \n",
    " # Check here always the right order of the indices\n",
    "    prop = f['properties']\n",
    "    if flag == 0:\n",
    "        summer_s2_df = pd.DataFrame(prop, index=[0])\n",
    "        flag = 1\n",
    "    else:\n",
    "        summer_s2_df = pd.concat([summer_s2_df, pd.DataFrame(prop, index=[0])])\n",
    "summer_s2_df.head(10)"
   ]
  },
  {
   "cell_type": "markdown",
   "metadata": {},
   "source": [
    "#### Combined Spring and Summer"
   ]
  },
  {
   "cell_type": "code",
   "execution_count": 24,
   "metadata": {},
   "outputs": [
    {
     "data": {
      "text/html": [
       "\n",
       "            <style>\n",
       "                .geemap-dark {\n",
       "                    --jp-widgets-color: white;\n",
       "                    --jp-widgets-label-color: white;\n",
       "                    --jp-ui-font-color1: white;\n",
       "                    --jp-layout-color2: #454545;\n",
       "                    background-color: #383838;\n",
       "                }\n",
       "\n",
       "                .geemap-dark .jupyter-button {\n",
       "                    --jp-layout-color3: #383838;\n",
       "                }\n",
       "\n",
       "                .geemap-colab {\n",
       "                    background-color: var(--colab-primary-surface-color, white);\n",
       "                }\n",
       "\n",
       "                .geemap-colab .jupyter-button {\n",
       "                    --jp-layout-color3: var(--colab-primary-surface-color, white);\n",
       "                }\n",
       "            </style>\n",
       "            "
      ],
      "text/plain": [
       "<IPython.core.display.HTML object>"
      ]
     },
     "metadata": {},
     "output_type": "display_data"
    }
   ],
   "source": [
    "vals_merged_s2 = merged_stm_seasonal.sampleRegions(collection=fc_s2, properties=['class'], scale=10, tileScale=4, geometries=False).getInfo()"
   ]
  },
  {
   "cell_type": "code",
   "execution_count": 25,
   "metadata": {},
   "outputs": [
    {
     "data": {
      "text/html": [
       "\n",
       "            <style>\n",
       "                .geemap-dark {\n",
       "                    --jp-widgets-color: white;\n",
       "                    --jp-widgets-label-color: white;\n",
       "                    --jp-ui-font-color1: white;\n",
       "                    --jp-layout-color2: #454545;\n",
       "                    background-color: #383838;\n",
       "                }\n",
       "\n",
       "                .geemap-dark .jupyter-button {\n",
       "                    --jp-layout-color3: #383838;\n",
       "                }\n",
       "\n",
       "                .geemap-colab {\n",
       "                    background-color: var(--colab-primary-surface-color, white);\n",
       "                }\n",
       "\n",
       "                .geemap-colab .jupyter-button {\n",
       "                    --jp-layout-color3: var(--colab-primary-surface-color, white);\n",
       "                }\n",
       "            </style>\n",
       "            "
      ],
      "text/plain": [
       "<IPython.core.display.HTML object>"
      ]
     },
     "metadata": {},
     "output_type": "display_data"
    },
    {
     "data": {
      "text/html": [
       "<div>\n",
       "<style scoped>\n",
       "    .dataframe tbody tr th:only-of-type {\n",
       "        vertical-align: middle;\n",
       "    }\n",
       "\n",
       "    .dataframe tbody tr th {\n",
       "        vertical-align: top;\n",
       "    }\n",
       "\n",
       "    .dataframe thead th {\n",
       "        text-align: right;\n",
       "    }\n",
       "</style>\n",
       "<table border=\"1\" class=\"dataframe\">\n",
       "  <thead>\n",
       "    <tr style=\"text-align: right;\">\n",
       "      <th></th>\n",
       "      <th>1_0_B11_mean</th>\n",
       "      <th>1_0_B11_p10</th>\n",
       "      <th>1_0_B11_p25</th>\n",
       "      <th>1_0_B11_p50</th>\n",
       "      <th>1_0_B11_p75</th>\n",
       "      <th>1_0_B11_p90</th>\n",
       "      <th>1_0_B11_stdDev</th>\n",
       "      <th>1_0_B12_mean</th>\n",
       "      <th>1_0_B12_p10</th>\n",
       "      <th>1_0_B12_p25</th>\n",
       "      <th>...</th>\n",
       "      <th>2_1_VH_p90</th>\n",
       "      <th>2_1_VH_stdDev</th>\n",
       "      <th>2_1_VV_mean</th>\n",
       "      <th>2_1_VV_p10</th>\n",
       "      <th>2_1_VV_p25</th>\n",
       "      <th>2_1_VV_p50</th>\n",
       "      <th>2_1_VV_p75</th>\n",
       "      <th>2_1_VV_p90</th>\n",
       "      <th>2_1_VV_stdDev</th>\n",
       "      <th>class</th>\n",
       "    </tr>\n",
       "  </thead>\n",
       "  <tbody>\n",
       "    <tr>\n",
       "      <th>0</th>\n",
       "      <td>2538.500000</td>\n",
       "      <td>1789.5</td>\n",
       "      <td>2071.0</td>\n",
       "      <td>2252.5</td>\n",
       "      <td>3122.0</td>\n",
       "      <td>3570.5</td>\n",
       "      <td>662.914964</td>\n",
       "      <td>1534.900000</td>\n",
       "      <td>895.0</td>\n",
       "      <td>1097.0</td>\n",
       "      <td>...</td>\n",
       "      <td>-15.580761</td>\n",
       "      <td>2.104450</td>\n",
       "      <td>-10.779090</td>\n",
       "      <td>-13.565019</td>\n",
       "      <td>-11.983315</td>\n",
       "      <td>-11.123154</td>\n",
       "      <td>-9.036569</td>\n",
       "      <td>-7.569821</td>\n",
       "      <td>2.192904</td>\n",
       "      <td>1</td>\n",
       "    </tr>\n",
       "    <tr>\n",
       "      <th>0</th>\n",
       "      <td>2283.571429</td>\n",
       "      <td>1758.0</td>\n",
       "      <td>1935.0</td>\n",
       "      <td>2179.5</td>\n",
       "      <td>2621.0</td>\n",
       "      <td>2927.0</td>\n",
       "      <td>398.027945</td>\n",
       "      <td>1327.071429</td>\n",
       "      <td>898.0</td>\n",
       "      <td>988.0</td>\n",
       "      <td>...</td>\n",
       "      <td>-15.861392</td>\n",
       "      <td>1.894411</td>\n",
       "      <td>-11.784850</td>\n",
       "      <td>-14.690579</td>\n",
       "      <td>-12.824347</td>\n",
       "      <td>-11.666077</td>\n",
       "      <td>-10.179588</td>\n",
       "      <td>-8.965111</td>\n",
       "      <td>2.342389</td>\n",
       "      <td>1</td>\n",
       "    </tr>\n",
       "    <tr>\n",
       "      <th>0</th>\n",
       "      <td>2213.214286</td>\n",
       "      <td>1570.0</td>\n",
       "      <td>1749.0</td>\n",
       "      <td>1996.0</td>\n",
       "      <td>2645.0</td>\n",
       "      <td>2906.0</td>\n",
       "      <td>488.962338</td>\n",
       "      <td>1265.357143</td>\n",
       "      <td>782.0</td>\n",
       "      <td>895.0</td>\n",
       "      <td>...</td>\n",
       "      <td>-12.726439</td>\n",
       "      <td>1.705297</td>\n",
       "      <td>-9.091552</td>\n",
       "      <td>-12.598413</td>\n",
       "      <td>-10.416954</td>\n",
       "      <td>-9.595176</td>\n",
       "      <td>-7.493980</td>\n",
       "      <td>-5.789119</td>\n",
       "      <td>2.216639</td>\n",
       "      <td>1</td>\n",
       "    </tr>\n",
       "    <tr>\n",
       "      <th>0</th>\n",
       "      <td>2134.000000</td>\n",
       "      <td>1624.5</td>\n",
       "      <td>1734.0</td>\n",
       "      <td>2028.5</td>\n",
       "      <td>2429.0</td>\n",
       "      <td>2773.5</td>\n",
       "      <td>414.020772</td>\n",
       "      <td>1152.000000</td>\n",
       "      <td>796.0</td>\n",
       "      <td>869.0</td>\n",
       "      <td>...</td>\n",
       "      <td>-14.408753</td>\n",
       "      <td>2.088658</td>\n",
       "      <td>-11.756355</td>\n",
       "      <td>-13.533400</td>\n",
       "      <td>-13.131776</td>\n",
       "      <td>-11.986475</td>\n",
       "      <td>-10.284403</td>\n",
       "      <td>-9.265685</td>\n",
       "      <td>1.804736</td>\n",
       "      <td>1</td>\n",
       "    </tr>\n",
       "    <tr>\n",
       "      <th>0</th>\n",
       "      <td>2419.416667</td>\n",
       "      <td>1872.0</td>\n",
       "      <td>2064.0</td>\n",
       "      <td>2226.0</td>\n",
       "      <td>2894.5</td>\n",
       "      <td>3090.0</td>\n",
       "      <td>500.049741</td>\n",
       "      <td>1468.583333</td>\n",
       "      <td>935.0</td>\n",
       "      <td>1076.0</td>\n",
       "      <td>...</td>\n",
       "      <td>-13.729692</td>\n",
       "      <td>2.779663</td>\n",
       "      <td>-10.493286</td>\n",
       "      <td>-13.185700</td>\n",
       "      <td>-12.325145</td>\n",
       "      <td>-10.284741</td>\n",
       "      <td>-9.405126</td>\n",
       "      <td>-7.460775</td>\n",
       "      <td>2.251117</td>\n",
       "      <td>1</td>\n",
       "    </tr>\n",
       "    <tr>\n",
       "      <th>0</th>\n",
       "      <td>1867.833333</td>\n",
       "      <td>1447.0</td>\n",
       "      <td>1683.0</td>\n",
       "      <td>1844.5</td>\n",
       "      <td>2087.0</td>\n",
       "      <td>2191.0</td>\n",
       "      <td>290.203042</td>\n",
       "      <td>975.250000</td>\n",
       "      <td>730.0</td>\n",
       "      <td>818.0</td>\n",
       "      <td>...</td>\n",
       "      <td>-17.358630</td>\n",
       "      <td>1.400568</td>\n",
       "      <td>-13.095946</td>\n",
       "      <td>-15.927275</td>\n",
       "      <td>-14.579719</td>\n",
       "      <td>-13.706028</td>\n",
       "      <td>-11.448494</td>\n",
       "      <td>-9.909904</td>\n",
       "      <td>2.240687</td>\n",
       "      <td>1</td>\n",
       "    </tr>\n",
       "    <tr>\n",
       "      <th>0</th>\n",
       "      <td>2733.857143</td>\n",
       "      <td>1834.0</td>\n",
       "      <td>2233.0</td>\n",
       "      <td>2460.5</td>\n",
       "      <td>3376.0</td>\n",
       "      <td>3674.0</td>\n",
       "      <td>658.411601</td>\n",
       "      <td>1652.928571</td>\n",
       "      <td>935.0</td>\n",
       "      <td>1170.0</td>\n",
       "      <td>...</td>\n",
       "      <td>-15.035936</td>\n",
       "      <td>2.104244</td>\n",
       "      <td>-10.077426</td>\n",
       "      <td>-12.312918</td>\n",
       "      <td>-11.481572</td>\n",
       "      <td>-10.150554</td>\n",
       "      <td>-8.663372</td>\n",
       "      <td>-7.653517</td>\n",
       "      <td>1.997325</td>\n",
       "      <td>1</td>\n",
       "    </tr>\n",
       "    <tr>\n",
       "      <th>0</th>\n",
       "      <td>2472.285714</td>\n",
       "      <td>1680.0</td>\n",
       "      <td>2000.0</td>\n",
       "      <td>2314.0</td>\n",
       "      <td>3027.0</td>\n",
       "      <td>3299.0</td>\n",
       "      <td>605.930740</td>\n",
       "      <td>1531.785714</td>\n",
       "      <td>928.0</td>\n",
       "      <td>1089.0</td>\n",
       "      <td>...</td>\n",
       "      <td>-15.578227</td>\n",
       "      <td>2.066563</td>\n",
       "      <td>-11.451093</td>\n",
       "      <td>-14.000169</td>\n",
       "      <td>-12.749550</td>\n",
       "      <td>-11.618650</td>\n",
       "      <td>-10.201382</td>\n",
       "      <td>-8.512607</td>\n",
       "      <td>1.893666</td>\n",
       "      <td>1</td>\n",
       "    </tr>\n",
       "    <tr>\n",
       "      <th>0</th>\n",
       "      <td>2128.125000</td>\n",
       "      <td>1617.0</td>\n",
       "      <td>1761.5</td>\n",
       "      <td>1966.5</td>\n",
       "      <td>2468.0</td>\n",
       "      <td>3016.0</td>\n",
       "      <td>486.423282</td>\n",
       "      <td>1167.375000</td>\n",
       "      <td>845.0</td>\n",
       "      <td>913.5</td>\n",
       "      <td>...</td>\n",
       "      <td>-13.922998</td>\n",
       "      <td>2.489996</td>\n",
       "      <td>-10.085537</td>\n",
       "      <td>-13.616584</td>\n",
       "      <td>-12.271490</td>\n",
       "      <td>-9.758794</td>\n",
       "      <td>-7.788321</td>\n",
       "      <td>-6.690557</td>\n",
       "      <td>2.779559</td>\n",
       "      <td>1</td>\n",
       "    </tr>\n",
       "    <tr>\n",
       "      <th>0</th>\n",
       "      <td>2016.357143</td>\n",
       "      <td>1150.0</td>\n",
       "      <td>1798.0</td>\n",
       "      <td>2076.5</td>\n",
       "      <td>2372.0</td>\n",
       "      <td>2415.0</td>\n",
       "      <td>417.365993</td>\n",
       "      <td>1068.785714</td>\n",
       "      <td>668.0</td>\n",
       "      <td>892.0</td>\n",
       "      <td>...</td>\n",
       "      <td>-17.525415</td>\n",
       "      <td>2.900697</td>\n",
       "      <td>-12.873943</td>\n",
       "      <td>-16.198354</td>\n",
       "      <td>-14.701081</td>\n",
       "      <td>-12.715343</td>\n",
       "      <td>-11.457344</td>\n",
       "      <td>-9.702970</td>\n",
       "      <td>2.345097</td>\n",
       "      <td>1</td>\n",
       "    </tr>\n",
       "  </tbody>\n",
       "</table>\n",
       "<p>10 rows × 169 columns</p>\n",
       "</div>"
      ],
      "text/plain": [
       "   1_0_B11_mean  1_0_B11_p10  1_0_B11_p25  1_0_B11_p50  1_0_B11_p75  \\\n",
       "0   2538.500000       1789.5       2071.0       2252.5       3122.0   \n",
       "0   2283.571429       1758.0       1935.0       2179.5       2621.0   \n",
       "0   2213.214286       1570.0       1749.0       1996.0       2645.0   \n",
       "0   2134.000000       1624.5       1734.0       2028.5       2429.0   \n",
       "0   2419.416667       1872.0       2064.0       2226.0       2894.5   \n",
       "0   1867.833333       1447.0       1683.0       1844.5       2087.0   \n",
       "0   2733.857143       1834.0       2233.0       2460.5       3376.0   \n",
       "0   2472.285714       1680.0       2000.0       2314.0       3027.0   \n",
       "0   2128.125000       1617.0       1761.5       1966.5       2468.0   \n",
       "0   2016.357143       1150.0       1798.0       2076.5       2372.0   \n",
       "\n",
       "   1_0_B11_p90  1_0_B11_stdDev  1_0_B12_mean  1_0_B12_p10  1_0_B12_p25  ...  \\\n",
       "0       3570.5      662.914964   1534.900000        895.0       1097.0  ...   \n",
       "0       2927.0      398.027945   1327.071429        898.0        988.0  ...   \n",
       "0       2906.0      488.962338   1265.357143        782.0        895.0  ...   \n",
       "0       2773.5      414.020772   1152.000000        796.0        869.0  ...   \n",
       "0       3090.0      500.049741   1468.583333        935.0       1076.0  ...   \n",
       "0       2191.0      290.203042    975.250000        730.0        818.0  ...   \n",
       "0       3674.0      658.411601   1652.928571        935.0       1170.0  ...   \n",
       "0       3299.0      605.930740   1531.785714        928.0       1089.0  ...   \n",
       "0       3016.0      486.423282   1167.375000        845.0        913.5  ...   \n",
       "0       2415.0      417.365993   1068.785714        668.0        892.0  ...   \n",
       "\n",
       "   2_1_VH_p90  2_1_VH_stdDev  2_1_VV_mean  2_1_VV_p10  2_1_VV_p25  2_1_VV_p50  \\\n",
       "0  -15.580761       2.104450   -10.779090  -13.565019  -11.983315  -11.123154   \n",
       "0  -15.861392       1.894411   -11.784850  -14.690579  -12.824347  -11.666077   \n",
       "0  -12.726439       1.705297    -9.091552  -12.598413  -10.416954   -9.595176   \n",
       "0  -14.408753       2.088658   -11.756355  -13.533400  -13.131776  -11.986475   \n",
       "0  -13.729692       2.779663   -10.493286  -13.185700  -12.325145  -10.284741   \n",
       "0  -17.358630       1.400568   -13.095946  -15.927275  -14.579719  -13.706028   \n",
       "0  -15.035936       2.104244   -10.077426  -12.312918  -11.481572  -10.150554   \n",
       "0  -15.578227       2.066563   -11.451093  -14.000169  -12.749550  -11.618650   \n",
       "0  -13.922998       2.489996   -10.085537  -13.616584  -12.271490   -9.758794   \n",
       "0  -17.525415       2.900697   -12.873943  -16.198354  -14.701081  -12.715343   \n",
       "\n",
       "   2_1_VV_p75  2_1_VV_p90  2_1_VV_stdDev  class  \n",
       "0   -9.036569   -7.569821       2.192904      1  \n",
       "0  -10.179588   -8.965111       2.342389      1  \n",
       "0   -7.493980   -5.789119       2.216639      1  \n",
       "0  -10.284403   -9.265685       1.804736      1  \n",
       "0   -9.405126   -7.460775       2.251117      1  \n",
       "0  -11.448494   -9.909904       2.240687      1  \n",
       "0   -8.663372   -7.653517       1.997325      1  \n",
       "0  -10.201382   -8.512607       1.893666      1  \n",
       "0   -7.788321   -6.690557       2.779559      1  \n",
       "0  -11.457344   -9.702970       2.345097      1  \n",
       "\n",
       "[10 rows x 169 columns]"
      ]
     },
     "execution_count": 25,
     "metadata": {},
     "output_type": "execute_result"
    }
   ],
   "source": [
    "flag = 0\n",
    "featureValues = vals_merged_s2['features']\n",
    "for f in featureValues:         \n",
    " # Check here always the right order of the indices\n",
    "    prop = f['properties']\n",
    "    if flag == 0:\n",
    "        vals_merged_s2_df = pd.DataFrame(prop, index=[0])\n",
    "        flag = 1\n",
    "    else:\n",
    "        vals_merged_s2_df = pd.concat([vals_merged_s2_df, pd.DataFrame(prop, index=[0])])\n",
    "vals_merged_s2_df.head(10)"
   ]
  },
  {
   "cell_type": "markdown",
   "metadata": {},
   "source": [
    "## Create synthetic mixes of training data"
   ]
  },
  {
   "cell_type": "markdown",
   "metadata": {},
   "source": [
    "### Transform dataframes into right format for synthmix function seasonal STMs"
   ]
  },
  {
   "cell_type": "markdown",
   "metadata": {},
   "source": [
    "#### Spring and Summer"
   ]
  },
  {
   "cell_type": "code",
   "execution_count": null,
   "metadata": {},
   "outputs": [
    {
     "data": {
      "text/html": [
       "\n",
       "            <style>\n",
       "                .geemap-dark {\n",
       "                    --jp-widgets-color: white;\n",
       "                    --jp-widgets-label-color: white;\n",
       "                    --jp-ui-font-color1: white;\n",
       "                    --jp-layout-color2: #454545;\n",
       "                    background-color: #383838;\n",
       "                }\n",
       "\n",
       "                .geemap-dark .jupyter-button {\n",
       "                    --jp-layout-color3: #383838;\n",
       "                }\n",
       "\n",
       "                .geemap-colab {\n",
       "                    background-color: var(--colab-primary-surface-color, white);\n",
       "                }\n",
       "\n",
       "                .geemap-colab .jupyter-button {\n",
       "                    --jp-layout-color3: var(--colab-primary-surface-color, white);\n",
       "                }\n",
       "            </style>\n",
       "            "
      ],
      "text/plain": [
       "<IPython.core.display.HTML object>"
      ]
     },
     "metadata": {},
     "output_type": "display_data"
    }
   ],
   "source": [
    "## put class column at the beginning\n",
    "# spring  \n",
    "first_column_3 = spring_s2_df.pop('class')\n",
    "spring_s2_df.insert(0, 'ID', first_column_3)\n",
    "\n",
    "# summer  \n",
    "first_column_4 = summer_s2_df.pop('class')\n",
    "summer_s2_df.insert(0, 'ID', first_column_4)"
   ]
  },
  {
   "cell_type": "markdown",
   "metadata": {},
   "source": [
    "#### Spring and Summer combined "
   ]
  },
  {
   "cell_type": "code",
   "execution_count": null,
   "metadata": {},
   "outputs": [
    {
     "data": {
      "text/html": [
       "\n",
       "            <style>\n",
       "                .geemap-dark {\n",
       "                    --jp-widgets-color: white;\n",
       "                    --jp-widgets-label-color: white;\n",
       "                    --jp-ui-font-color1: white;\n",
       "                    --jp-layout-color2: #454545;\n",
       "                    background-color: #383838;\n",
       "                }\n",
       "\n",
       "                .geemap-dark .jupyter-button {\n",
       "                    --jp-layout-color3: #383838;\n",
       "                }\n",
       "\n",
       "                .geemap-colab {\n",
       "                    background-color: var(--colab-primary-surface-color, white);\n",
       "                }\n",
       "\n",
       "                .geemap-colab .jupyter-button {\n",
       "                    --jp-layout-color3: var(--colab-primary-surface-color, white);\n",
       "                }\n",
       "            </style>\n",
       "            "
      ],
      "text/plain": [
       "<IPython.core.display.HTML object>"
      ]
     },
     "metadata": {},
     "output_type": "display_data"
    }
   ],
   "source": [
    "## put class column at the beginning\n",
    "# merged seasons\n",
    "first_column_2 = vals_merged_s2_df.pop('class') \n",
    "vals_merged_s2_df.insert(0, 'ID', first_column_2) "
   ]
  },
  {
   "cell_type": "code",
   "execution_count": 30,
   "metadata": {},
   "outputs": [
    {
     "data": {
      "text/html": [
       "\n",
       "            <style>\n",
       "                .geemap-dark {\n",
       "                    --jp-widgets-color: white;\n",
       "                    --jp-widgets-label-color: white;\n",
       "                    --jp-ui-font-color1: white;\n",
       "                    --jp-layout-color2: #454545;\n",
       "                    background-color: #383838;\n",
       "                }\n",
       "\n",
       "                .geemap-dark .jupyter-button {\n",
       "                    --jp-layout-color3: #383838;\n",
       "                }\n",
       "\n",
       "                .geemap-colab {\n",
       "                    background-color: var(--colab-primary-surface-color, white);\n",
       "                }\n",
       "\n",
       "                .geemap-colab .jupyter-button {\n",
       "                    --jp-layout-color3: var(--colab-primary-surface-color, white);\n",
       "                }\n",
       "            </style>\n",
       "            "
      ],
      "text/plain": [
       "<IPython.core.display.HTML object>"
      ]
     },
     "metadata": {},
     "output_type": "display_data"
    },
    {
     "data": {
      "image/png": "[encoded data removed]",
      "text/plain": [
       "<Figure size 1200x800 with 1 Axes>"
      ]
     },
     "metadata": {},
     "output_type": "display_data"
    }
   ],
   "source": [
    "import matplotlib.pyplot as plt\n",
    "import seaborn as sns\n",
    "\n",
    "# Create the plot\n",
    "fig, ax = plt.subplots(figsize=(12, 8))\n",
    "sns.violinplot(data=vals_merged_s2_df, x='ID', y='1_0_NDVI_mean', cut=1, linewidth=1, palette=\"Set3\", ax=ax)\n",
    "\n",
    "# Define the legend labels\n",
    "legend_labels = ['Wet Grassland', 'Typha', 'Phragmites', 'Shrublands', 'Forest', 'Non-wet grasslands', 'Other', 'Water']\n",
    "\n",
    "# Set the x-axis labels to the legend labels\n",
    "ax.set_xticklabels(legend_labels)\n",
    "\n",
    "# Add labels and title\n",
    "ax.set_xlabel('ID Classes')\n",
    "ax.set_ylabel('NDVI Mean Values')\n",
    "ax.set_title('Combined Seasons NDVI Values for Scheme 2 by ID Classes')\n",
    "\n",
    "# Show the plot\n",
    "plt.show()"
   ]
  },
  {
   "cell_type": "markdown",
   "metadata": {},
   "source": [
    "## Use Synthmix function"
   ]
  },
  {
   "cell_type": "markdown",
   "metadata": {},
   "source": [
    "### Synthmix function"
   ]
  },
  {
   "cell_type": "code",
   "execution_count": 31,
   "metadata": {},
   "outputs": [
    {
     "data": {
      "text/html": [
       "\n",
       "            <style>\n",
       "                .geemap-dark {\n",
       "                    --jp-widgets-color: white;\n",
       "                    --jp-widgets-label-color: white;\n",
       "                    --jp-ui-font-color1: white;\n",
       "                    --jp-layout-color2: #454545;\n",
       "                    background-color: #383838;\n",
       "                }\n",
       "\n",
       "                .geemap-dark .jupyter-button {\n",
       "                    --jp-layout-color3: #383838;\n",
       "                }\n",
       "\n",
       "                .geemap-colab {\n",
       "                    background-color: var(--colab-primary-surface-color, white);\n",
       "                }\n",
       "\n",
       "                .geemap-colab .jupyter-button {\n",
       "                    --jp-layout-color3: var(--colab-primary-surface-color, white);\n",
       "                }\n",
       "            </style>\n",
       "            "
      ],
      "text/plain": [
       "<IPython.core.display.HTML object>"
      ]
     },
     "metadata": {},
     "output_type": "display_data"
    }
   ],
   "source": [
    "import numpy as np\n",
    "import pandas as pd\n",
    "\n",
    "def synthmix(df, cl_target, cl_background, n_samples=1000,\n",
    "             mix_complexity=[2, 3, 4], p_mix_complexity=[0.7, 0.2, 0.1],\n",
    "             within_class_mixture=True, include_endmember=True):\n",
    "    \"\"\"\n",
    "    Generate synthetic training data mixtures from pure endmember spectra.\n",
    "\n",
    "    Parameters:\n",
    "        df (pd.DataFrame): Input dataframe. First column contains class-IDs (integers), \n",
    "                           remaining columns contain features.\n",
    "        cl_target (int): Target class' integer ID value.\n",
    "        cl_background (list[int]): Background class' integer ID values.\n",
    "        n_samples (int): Number of synthetic training points to generate.\n",
    "        mix_complexity (list[int]): Desired number of possible mixtures between classes.\n",
    "        p_mix_complexity (list[float]): Probabilities for mix_complexity.\n",
    "        within_class_mixture (bool): If True, allows mixtures within the same class group.\n",
    "        include_endmember (bool): If True, includes original endmembers in the output.\n",
    "\n",
    "    Returns:\n",
    "        pd.DataFrame: Dataframe with linearly mixed features and target class fractions.\n",
    "    \"\"\"\n",
    "    # Total number of classes and indices\n",
    "    all_ems = [cl_target] + cl_background\n",
    "    idx_em = {em: np.flatnonzero(df.iloc[:, 0].values == em) for em in all_ems}\n",
    "    \n",
    "    # Fraction vector for target class\n",
    "    zero_one = np.zeros(len(df))\n",
    "    zero_one[idx_em[cl_target]] = 1\n",
    "\n",
    "    # Preallocate space for mixtures\n",
    "    n_features = df.shape[1] - 1\n",
    "    mixtures = np.zeros((n_samples, n_features + 1))\n",
    "    \n",
    "    for i in range(n_samples):\n",
    "        # Determine mixing complexity\n",
    "        complexity = (mix_complexity[0] if len(p_mix_complexity) == 1 else \n",
    "                      np.random.choice(mix_complexity, p=p_mix_complexity))\n",
    "        \n",
    "        # Select background classes for the mixture\n",
    "        background = (np.random.choice(all_ems, complexity - 1, replace=True) if within_class_mixture \n",
    "                      else np.random.choice(cl_background, complexity - 1, replace=False))\n",
    "        \n",
    "        # Sample indices for target and background classes\n",
    "        response = [cl_target] + list(background)\n",
    "        drawn_index = [np.random.choice(idx_em[r]) for r in response]\n",
    "        \n",
    "        # Extract features and fractions\n",
    "        drawn_features = df.iloc[drawn_index, 1:].values\n",
    "        drawn_fraction = zero_one[drawn_index]\n",
    "        \n",
    "        # Sample random weights\n",
    "        weights = np.random.dirichlet(alpha=np.ones(complexity))\n",
    "        \n",
    "        # Calculate mixture and fraction\n",
    "        mixtures[i, :-1] = np.dot(weights, drawn_features)\n",
    "        mixtures[i, -1] = np.dot(weights, drawn_fraction)\n",
    "    \n",
    "    # Convert mixtures to a DataFrame\n",
    "    columns = list(df.columns[1:]) + [\"fraction\"]\n",
    "    df_mixture = pd.DataFrame(mixtures, columns=columns)\n",
    "    \n",
    "    # Include original endmembers if specified\n",
    "    if include_endmember:\n",
    "        endmembers = df.iloc[:, 1:].copy()\n",
    "        endmembers[\"fraction\"] = zero_one\n",
    "        df_mixture = pd.concat([df_mixture, endmembers], ignore_index=True)\n",
    "    \n",
    "    return df_mixture\n"
   ]
  },
  {
   "cell_type": "markdown",
   "metadata": {},
   "source": [
    "### Synthmix for seasnonal STMs"
   ]
  },
  {
   "cell_type": "markdown",
   "metadata": {},
   "source": [
    "#### Spring and Summer"
   ]
  },
  {
   "cell_type": "code",
   "execution_count": null,
   "metadata": {},
   "outputs": [
    {
     "data": {
      "text/html": [
       "\n",
       "            <style>\n",
       "                .geemap-dark {\n",
       "                    --jp-widgets-color: white;\n",
       "                    --jp-widgets-label-color: white;\n",
       "                    --jp-ui-font-color1: white;\n",
       "                    --jp-layout-color2: #454545;\n",
       "                    background-color: #383838;\n",
       "                }\n",
       "\n",
       "                .geemap-dark .jupyter-button {\n",
       "                    --jp-layout-color3: #383838;\n",
       "                }\n",
       "\n",
       "                .geemap-colab {\n",
       "                    background-color: var(--colab-primary-surface-color, white);\n",
       "                }\n",
       "\n",
       "                .geemap-colab .jupyter-button {\n",
       "                    --jp-layout-color3: var(--colab-primary-surface-color, white);\n",
       "                }\n",
       "            </style>\n",
       "            "
      ],
      "text/plain": [
       "<IPython.core.display.HTML object>"
      ]
     },
     "metadata": {},
     "output_type": "display_data"
    }
   ],
   "source": [
    "## Mixes\n",
    "# spring\n",
    "synthetic_data_scheme2_wetgrassland_spring = synthmix(spring_s2_df, cl_target=1, cl_background=[2, 3, 4, 5, 6, 7, 8], n_samples=1000) # Wet-Grasslands\n",
    "\n",
    "synthetic_data_scheme2_Typha_spring = synthmix(spring_s2_df, cl_target=2, cl_background=[1, 3, 4, 5, 6, 7, 8], n_samples=1000) # Typha\n",
    "\n",
    "synthetic_data_scheme2_Phragmites_spring = synthmix(spring_s2_df, cl_target=3, cl_background=[1, 2, 4, 5, 6, 7, 8], n_samples=1000) # Phragmites\n",
    "\n",
    "synthetic_data_scheme2_shrubland_spring = synthmix(spring_s2_df, cl_target=4, cl_background=[1, 2, 3, 5, 6, 7, 8], n_samples=1000) # Shrublands\n",
    "\n",
    "synthetic_data_scheme2_water_spring = synthmix(spring_s2_df, cl_target=8, cl_background=[1, 2, 3, 4, 5, 6, 7], n_samples=1000) # Water\n",
    "\n",
    "# summer\n",
    "synthetic_data_scheme2_wetgrassland_summer = synthmix(summer_s2_df, cl_target=1, cl_background=[2, 3, 4, 5, 6, 7, 8], n_samples=1000) # Wet-Grasslands\n",
    "\n",
    "synthetic_data_scheme2_Typha_summer = synthmix(summer_s2_df, cl_target=2, cl_background=[1, 3, 4, 5, 6, 7, 8], n_samples=1000) # Typha\n",
    "\n",
    "synthetic_data_scheme2_Phragmites_summer = synthmix(summer_s2_df, cl_target=3, cl_background=[1, 2, 4, 5, 6, 7, 8], n_samples=1000) # Phragmites\n",
    "\n",
    "synthetic_data_scheme2_shrubland_summer = synthmix(summer_s2_df, cl_target=4, cl_background=[1, 2, 3, 5, 6, 7, 8], n_samples=1000) # Shrublands\n",
    "\n",
    "synthetic_data_scheme2_water_summer = synthmix(summer_s2_df, cl_target=8, cl_background=[1, 2, 3, 4, 5, 6, 7], n_samples=1000) # Water"
   ]
  },
  {
   "cell_type": "markdown",
   "metadata": {},
   "source": [
    "#### Spring and Summer combined"
   ]
  },
  {
   "cell_type": "code",
   "execution_count": null,
   "metadata": {},
   "outputs": [
    {
     "data": {
      "text/html": [
       "\n",
       "            <style>\n",
       "                .geemap-dark {\n",
       "                    --jp-widgets-color: white;\n",
       "                    --jp-widgets-label-color: white;\n",
       "                    --jp-ui-font-color1: white;\n",
       "                    --jp-layout-color2: #454545;\n",
       "                    background-color: #383838;\n",
       "                }\n",
       "\n",
       "                .geemap-dark .jupyter-button {\n",
       "                    --jp-layout-color3: #383838;\n",
       "                }\n",
       "\n",
       "                .geemap-colab {\n",
       "                    background-color: var(--colab-primary-surface-color, white);\n",
       "                }\n",
       "\n",
       "                .geemap-colab .jupyter-button {\n",
       "                    --jp-layout-color3: var(--colab-primary-surface-color, white);\n",
       "                }\n",
       "            </style>\n",
       "            "
      ],
      "text/plain": [
       "<IPython.core.display.HTML object>"
      ]
     },
     "metadata": {},
     "output_type": "display_data"
    }
   ],
   "source": [
    "## Mixes\n",
    "# Scheme 2\n",
    "synthetic_data_scheme2_wetgrassland_merged = synthmix(vals_merged_s2_df, cl_target=1, cl_background=[2, 3, 4, 5, 6, 7, 8], n_samples=1000) # Wet-Grasslands\n",
    "\n",
    "synthetic_data_scheme2_Typha_merged = synthmix(vals_merged_s2_df, cl_target=2, cl_background=[1, 3, 4, 5, 6, 7, 8], n_samples=1000) # Typha\n",
    "\n",
    "synthetic_data_scheme2_Phragmites_merged = synthmix(vals_merged_s2_df, cl_target=3, cl_background=[1, 2, 4, 5, 6, 7, 8], n_samples=1000) # Phragmites\n",
    "\n",
    "synthetic_data_scheme2_shrubland_merged = synthmix(vals_merged_s2_df, cl_target=4, cl_background=[1, 2, 3, 5, 6, 7, 8], n_samples=1000) # Shrublands\n",
    "\n",
    "synthetic_data_scheme2_water_merged = synthmix(vals_merged_s2_df, cl_target=8, cl_background=[1, 2, 3, 4, 5, 6, 7], n_samples=1000) # Water"
   ]
  },
  {
   "cell_type": "markdown",
   "metadata": {},
   "source": [
    "## Train Random Forest Regression Model"
   ]
  },
  {
   "cell_type": "markdown",
   "metadata": {},
   "source": [
    "#### Note: Validation with AVIRIS-NG classifcation map is at the end of the Notebook. "
   ]
  },
  {
   "cell_type": "code",
   "execution_count": 34,
   "metadata": {},
   "outputs": [
    {
     "data": {
      "text/html": [
       "\n",
       "            <style>\n",
       "                .geemap-dark {\n",
       "                    --jp-widgets-color: white;\n",
       "                    --jp-widgets-label-color: white;\n",
       "                    --jp-ui-font-color1: white;\n",
       "                    --jp-layout-color2: #454545;\n",
       "                    background-color: #383838;\n",
       "                }\n",
       "\n",
       "                .geemap-dark .jupyter-button {\n",
       "                    --jp-layout-color3: #383838;\n",
       "                }\n",
       "\n",
       "                .geemap-colab {\n",
       "                    background-color: var(--colab-primary-surface-color, white);\n",
       "                }\n",
       "\n",
       "                .geemap-colab .jupyter-button {\n",
       "                    --jp-layout-color3: var(--colab-primary-surface-color, white);\n",
       "                }\n",
       "            </style>\n",
       "            "
      ],
      "text/plain": [
       "<IPython.core.display.HTML object>"
      ]
     },
     "metadata": {},
     "output_type": "display_data"
    }
   ],
   "source": [
    "from sklearn.model_selection import GridSearchCV\n",
    "from sklearn.model_selection import train_test_split\n",
    "from sklearn.ensemble import RandomForestRegressor\n",
    "from sklearn.metrics import mean_squared_error\n",
    "from sklearn.metrics import mean_absolute_error\n",
    "from sklearn.metrics import r2_score\n"
   ]
  },
  {
   "cell_type": "markdown",
   "metadata": {},
   "source": [
    "### Seasonal STMs"
   ]
  },
  {
   "cell_type": "markdown",
   "metadata": {},
   "source": [
    "#### Spring and Summer"
   ]
  },
  {
   "cell_type": "code",
   "execution_count": 48,
   "metadata": {},
   "outputs": [
    {
     "data": {
      "text/html": [
       "\n",
       "            <style>\n",
       "                .geemap-dark {\n",
       "                    --jp-widgets-color: white;\n",
       "                    --jp-widgets-label-color: white;\n",
       "                    --jp-ui-font-color1: white;\n",
       "                    --jp-layout-color2: #454545;\n",
       "                    background-color: #383838;\n",
       "                }\n",
       "\n",
       "                .geemap-dark .jupyter-button {\n",
       "                    --jp-layout-color3: #383838;\n",
       "                }\n",
       "\n",
       "                .geemap-colab {\n",
       "                    background-color: var(--colab-primary-surface-color, white);\n",
       "                }\n",
       "\n",
       "                .geemap-colab .jupyter-button {\n",
       "                    --jp-layout-color3: var(--colab-primary-surface-color, white);\n",
       "                }\n",
       "            </style>\n",
       "            "
      ],
      "text/plain": [
       "<IPython.core.display.HTML object>"
      ]
     },
     "metadata": {},
     "output_type": "display_data"
    }
   ],
   "source": [
    "from sklearn.model_selection import train_test_split, GridSearchCV\n",
    "from sklearn.ensemble import RandomForestRegressor\n",
    "from geemap import ml\n",
    "\n",
    "def train_model(data, param_grid, test_size=0.2, random_state=42):\n",
    "    # Create the two arrays\n",
    "    y = data['fraction']\n",
    "    X = data.drop(['fraction'], axis=1)\n",
    "    \n",
    "    # Split data into training and testing sets\n",
    "    X_train, X_test, y_train, y_test = train_test_split(X, y, test_size=test_size, random_state=random_state)\n",
    "    \n",
    "    # Create a classifier instance\n",
    "    RF = RandomForestRegressor(random_state=random_state)\n",
    "    RF_cv = GridSearchCV(RF, param_grid=param_grid, cv=3, refit=True, n_jobs=4).fit(X_train, y_train)\n",
    "    \n",
    "    # Get the best model\n",
    "    best_model = RF_cv.best_estimator_\n",
    "\n",
    "    # Predict the test data\n",
    "    y_pred = best_model.predict(X_test)\n",
    "\n",
    "    # Calculate the mean squared error and mean absolute error\n",
    "    mse = mean_squared_error(y_test, y_pred)\n",
    "    mae = mean_absolute_error(y_test, y_pred)\n",
    "\n",
    "    # Get F1 score and accuracy\n",
    "    r2 = r2_score(y_test, y_pred)\n",
    "    \n",
    "    # Convert the model to a string and then to an Earth Engine classifier\n",
    "    feature_names = X.columns.tolist()\n",
    "    best_mod_str = ml.rf_to_strings(best_model, feature_names, output_mode=\"REGRESSION\")\n",
    "    ee_classifier = ml.strings_to_classifier(best_mod_str)\n",
    "    \n",
    "    return best_model, ee_classifier, mse, mae, r2\n",
    "\n",
    "# Define the parameter grid\n",
    "param_grid = {\n",
    "    'n_estimators': [10, 25, 50, 75, 100],\n",
    "    'max_features': [5, 10, 'sqrt'],\n",
    "    'min_samples_split': [5, 10, 15],\n",
    "    'max_depth': [5, 10, 20]\n",
    "}\n",
    "\n",
    "# Define the synthetic datasets\n",
    "synthetic_datasets = {\n",
    "    'spring_wetgrassland': synthetic_data_scheme2_wetgrassland_spring,\n",
    "    'spring_Typha': synthetic_data_scheme2_Typha_spring,\n",
    "    'spring_Phragmites': synthetic_data_scheme2_Phragmites_spring,\n",
    "    'spring_shrubland': synthetic_data_scheme2_shrubland_spring,\n",
    "    'spring_water': synthetic_data_scheme2_water_spring,\n",
    "    'summer_wetgrassland': synthetic_data_scheme2_wetgrassland_summer,\n",
    "    'summer_Typha': synthetic_data_scheme2_Typha_summer,\n",
    "    'summer_Phragmites': synthetic_data_scheme2_Phragmites_summer,\n",
    "    'summer_shrubland': synthetic_data_scheme2_shrubland_summer,\n",
    "    'summer_water': synthetic_data_scheme2_water_summer\n",
    "}\n",
    "\n",
    "# Train models for all synthetic datasets\n",
    "models = {}\n",
    "ee_classifiers = {}\n",
    "mse_dict = {}\n",
    "mae_dict = {}\n",
    "r2_dict = {}\n",
    "for name, data in synthetic_datasets.items():\n",
    "    best_model, ee_classifier, mse, mae, r2 = train_model(data, param_grid)\n",
    "    models[name] = best_model\n",
    "    ee_classifiers[name] = ee_classifier\n",
    "    mse_dict[name] = mse\n",
    "    mae_dict[name] = mae\n",
    "    r2_dict[name] = r2\n",
    "\n"
   ]
  },
  {
   "cell_type": "code",
   "execution_count": 49,
   "metadata": {},
   "outputs": [
    {
     "data": {
      "text/html": [
       "\n",
       "            <style>\n",
       "                .geemap-dark {\n",
       "                    --jp-widgets-color: white;\n",
       "                    --jp-widgets-label-color: white;\n",
       "                    --jp-ui-font-color1: white;\n",
       "                    --jp-layout-color2: #454545;\n",
       "                    background-color: #383838;\n",
       "                }\n",
       "\n",
       "                .geemap-dark .jupyter-button {\n",
       "                    --jp-layout-color3: #383838;\n",
       "                }\n",
       "\n",
       "                .geemap-colab {\n",
       "                    background-color: var(--colab-primary-surface-color, white);\n",
       "                }\n",
       "\n",
       "                .geemap-colab .jupyter-button {\n",
       "                    --jp-layout-color3: var(--colab-primary-surface-color, white);\n",
       "                }\n",
       "            </style>\n",
       "            "
      ],
      "text/plain": [
       "<IPython.core.display.HTML object>"
      ]
     },
     "metadata": {},
     "output_type": "display_data"
    },
    {
     "name": "stdout",
     "output_type": "stream",
     "text": [
      "MSE for spring_wetgrassland: 0.045003693923169455\n",
      "MAE for spring_wetgrassland: 0.16581572401093778\n",
      "R2 for spring_wetgrassland: 0.6949464023220131\n",
      "MSE for spring_Typha: 0.01656297149467283\n",
      "MAE for spring_Typha: 0.09806425868088874\n",
      "R2 for spring_Typha: 0.8702253907278416\n",
      "MSE for spring_Phragmites: 0.031465877909093574\n",
      "MAE for spring_Phragmites: 0.13606483609060818\n",
      "R2 for spring_Phragmites: 0.7706172136193438\n",
      "MSE for spring_shrubland: 0.018066419052595085\n",
      "MAE for spring_shrubland: 0.10419745832203654\n",
      "R2 for spring_shrubland: 0.8600422594388359\n",
      "MSE for spring_water: 0.009721638249961027\n",
      "MAE for spring_water: 0.05909174715849724\n",
      "R2 for spring_water: 0.9296340602206177\n",
      "MSE for summer_wetgrassland: 0.05763275273633791\n",
      "MAE for summer_wetgrassland: 0.18549696988947123\n",
      "R2 for summer_wetgrassland: 0.5989727292768556\n",
      "MSE for summer_Typha: 0.0283701251571083\n",
      "MAE for summer_Typha: 0.1290585711758533\n",
      "R2 for summer_Typha: 0.7968716746447223\n",
      "MSE for summer_Phragmites: 0.03846551254636391\n",
      "MAE for summer_Phragmites: 0.1553696425703759\n",
      "R2 for summer_Phragmites: 0.7104159445084121\n",
      "MSE for summer_shrubland: 0.02618524852551593\n",
      "MAE for summer_shrubland: 0.12261972591310213\n",
      "R2 for summer_shrubland: 0.8059020310430732\n",
      "MSE for summer_water: 0.011959746707972932\n",
      "MAE for summer_water: 0.06788701340751661\n",
      "R2 for summer_water: 0.9150665130732242\n"
     ]
    }
   ],
   "source": [
    "# Access models and classifiers for each synthetic dataset\n",
    "for name in synthetic_datasets.keys():\n",
    "    best_model = models[name]\n",
    "    ee_classifier = ee_classifiers[name]\n",
    "    mse = mse_dict[name]\n",
    "    mae = mae_dict[name]\n",
    "    r2 = r2_dict[name]\n",
    "    #print(f\"Model for {name}: {best_model}\")\n",
    "    #print(f\"EE Classifier for {name}: {ee_classifier}\")\n",
    "    print(f\"MSE for {name}: {mse}\")\n",
    "    print(f\"MAE for {name}: {mae}\")\n",
    "    print(f\"R2 for {name}: {r2}\")"
   ]
  },
  {
   "cell_type": "markdown",
   "metadata": {},
   "source": [
    "#### Spring and Summer combined"
   ]
  },
  {
   "cell_type": "code",
   "execution_count": 50,
   "metadata": {},
   "outputs": [
    {
     "data": {
      "text/html": [
       "\n",
       "            <style>\n",
       "                .geemap-dark {\n",
       "                    --jp-widgets-color: white;\n",
       "                    --jp-widgets-label-color: white;\n",
       "                    --jp-ui-font-color1: white;\n",
       "                    --jp-layout-color2: #454545;\n",
       "                    background-color: #383838;\n",
       "                }\n",
       "\n",
       "                .geemap-dark .jupyter-button {\n",
       "                    --jp-layout-color3: #383838;\n",
       "                }\n",
       "\n",
       "                .geemap-colab {\n",
       "                    background-color: var(--colab-primary-surface-color, white);\n",
       "                }\n",
       "\n",
       "                .geemap-colab .jupyter-button {\n",
       "                    --jp-layout-color3: var(--colab-primary-surface-color, white);\n",
       "                }\n",
       "            </style>\n",
       "            "
      ],
      "text/plain": [
       "<IPython.core.display.HTML object>"
      ]
     },
     "metadata": {},
     "output_type": "display_data"
    }
   ],
   "source": [
    "from sklearn.model_selection import train_test_split, GridSearchCV\n",
    "from sklearn.ensemble import RandomForestRegressor\n",
    "from geemap import ml\n",
    "\n",
    "def train_model(data, param_grid, test_size=0.2, random_state=42):\n",
    "    # Create the two arrays\n",
    "    y = data['fraction']\n",
    "    X = data.drop(['fraction'], axis=1)\n",
    "    \n",
    "    # Split data into training and testing sets\n",
    "    X_train, X_test, y_train, y_test = train_test_split(X, y, test_size=test_size, random_state=random_state)\n",
    "    \n",
    "    # Create a classifier instance\n",
    "    RF = RandomForestRegressor(random_state=random_state)\n",
    "    RF_cv = GridSearchCV(RF, param_grid=param_grid, cv=3, refit=True, n_jobs=4).fit(X_train, y_train)\n",
    "    \n",
    "    # Get the best model\n",
    "    best_model = RF_cv.best_estimator_\n",
    "\n",
    "    # Predict the test data\n",
    "    y_pred = best_model.predict(X_test)\n",
    "\n",
    "    # Calculate the mean squared error and mean absolute error\n",
    "    mse = mean_squared_error(y_test, y_pred)\n",
    "    mae = mean_absolute_error(y_test, y_pred)\n",
    "\n",
    "    # Get F1 score and accuracy\n",
    "    r2 = r2_score(y_test, y_pred)\n",
    "    \n",
    "    # Convert the model to a string and then to an Earth Engine classifier\n",
    "    feature_names = X.columns.tolist()\n",
    "    best_mod_str = ml.rf_to_strings(best_model, feature_names, output_mode=\"REGRESSION\")\n",
    "    ee_classifier = ml.strings_to_classifier(best_mod_str)\n",
    "    \n",
    "    return best_model, ee_classifier, mse, mae, r2\n",
    "\n",
    "# Define the parameter grid\n",
    "param_grid = {\n",
    "    'n_estimators': [10, 25, 50, 75, 100],\n",
    "    'max_features': [5, 10, 'sqrt'],\n",
    "    'min_samples_split': [5, 10, 15],\n",
    "    'max_depth': [5, 10, 20]\n",
    "}\n",
    "\n",
    "# Define the synthetic datasets\n",
    "synthetic_datasets = {\n",
    "    'merged_wetgrassland': synthetic_data_scheme2_wetgrassland_merged,\n",
    "    'merged_Typha': synthetic_data_scheme2_Typha_merged,\n",
    "    'merged_Phragmites': synthetic_data_scheme2_Phragmites_merged,\n",
    "    'merged_shrubland': synthetic_data_scheme2_shrubland_merged,\n",
    "    'merged_water': synthetic_data_scheme2_water_merged\n",
    "}\n",
    "\n",
    "# Train models for all synthetic datasets\n",
    "models = {}\n",
    "ee_classifiers = {}\n",
    "mse_dict = {}\n",
    "mae_dict = {}\n",
    "r2_dict = {}\n",
    "for name, data in synthetic_datasets.items():\n",
    "    best_model, ee_classifier, mse, mae, r2 = train_model(data, param_grid)\n",
    "    models[name] = best_model\n",
    "    ee_classifiers[name] = ee_classifier\n",
    "    mse_dict[name] = mse\n",
    "    mae_dict[name] = mae\n",
    "    r2_dict[name] = r2\n",
    "\n"
   ]
  },
  {
   "cell_type": "code",
   "execution_count": 51,
   "metadata": {},
   "outputs": [
    {
     "data": {
      "text/html": [
       "\n",
       "            <style>\n",
       "                .geemap-dark {\n",
       "                    --jp-widgets-color: white;\n",
       "                    --jp-widgets-label-color: white;\n",
       "                    --jp-ui-font-color1: white;\n",
       "                    --jp-layout-color2: #454545;\n",
       "                    background-color: #383838;\n",
       "                }\n",
       "\n",
       "                .geemap-dark .jupyter-button {\n",
       "                    --jp-layout-color3: #383838;\n",
       "                }\n",
       "\n",
       "                .geemap-colab {\n",
       "                    background-color: var(--colab-primary-surface-color, white);\n",
       "                }\n",
       "\n",
       "                .geemap-colab .jupyter-button {\n",
       "                    --jp-layout-color3: var(--colab-primary-surface-color, white);\n",
       "                }\n",
       "            </style>\n",
       "            "
      ],
      "text/plain": [
       "<IPython.core.display.HTML object>"
      ]
     },
     "metadata": {},
     "output_type": "display_data"
    },
    {
     "name": "stdout",
     "output_type": "stream",
     "text": [
      "MSE for merged_wetgrassland: 0.043356576645299405\n",
      "MAE for merged_wetgrassland: 0.16215365362653794\n",
      "R2 for merged_wetgrassland: 0.7251785860837241\n",
      "MSE for merged_Typha: 0.017376242294384933\n",
      "MAE for merged_Typha: 0.10514081481943803\n",
      "R2 for merged_Typha: 0.8738430314637378\n",
      "MSE for merged_Phragmites: 0.02923125397479271\n",
      "MAE for merged_Phragmites: 0.13591952619884926\n",
      "R2 for merged_Phragmites: 0.7896193791209278\n",
      "MSE for merged_shrubland: 0.019910449493818577\n",
      "MAE for merged_shrubland: 0.11128291323433694\n",
      "R2 for merged_shrubland: 0.8453986612805563\n",
      "MSE for merged_water: 0.008028585045690224\n",
      "MAE for merged_water: 0.052767188434399113\n",
      "R2 for merged_water: 0.9330085930206713\n"
     ]
    }
   ],
   "source": [
    "# Access models and classifiers for each synthetic dataset\n",
    "for name in synthetic_datasets.keys():\n",
    "    best_model = models[name]\n",
    "    ee_classifier = ee_classifiers[name]\n",
    "    mse = mse_dict[name]\n",
    "    mae = mae_dict[name]\n",
    "    r2 = r2_dict[name]\n",
    "    #print(f\"Model for {name}: {best_model}\")\n",
    "    #print(f\"EE Classifier for {name}: {ee_classifier}\")\n",
    "    print(f\"MSE for {name}: {mse}\")\n",
    "    print(f\"MAE for {name}: {mae}\")\n",
    "    print(f\"R2 for {name}: {r2}\")"
   ]
  },
  {
   "cell_type": "code",
   "execution_count": 52,
   "metadata": {},
   "outputs": [
    {
     "data": {
      "text/html": [
       "\n",
       "            <style>\n",
       "                .geemap-dark {\n",
       "                    --jp-widgets-color: white;\n",
       "                    --jp-widgets-label-color: white;\n",
       "                    --jp-ui-font-color1: white;\n",
       "                    --jp-layout-color2: #454545;\n",
       "                    background-color: #383838;\n",
       "                }\n",
       "\n",
       "                .geemap-dark .jupyter-button {\n",
       "                    --jp-layout-color3: #383838;\n",
       "                }\n",
       "\n",
       "                .geemap-colab {\n",
       "                    background-color: var(--colab-primary-surface-color, white);\n",
       "                }\n",
       "\n",
       "                .geemap-colab .jupyter-button {\n",
       "                    --jp-layout-color3: var(--colab-primary-surface-color, white);\n",
       "                }\n",
       "            </style>\n",
       "            "
      ],
      "text/plain": [
       "<IPython.core.display.HTML object>"
      ]
     },
     "metadata": {},
     "output_type": "display_data"
    },
    {
     "name": "stdout",
     "output_type": "stream",
     "text": [
      "           Feature  Importance\n",
      "67    1_0_NDVI_p75    0.045889\n",
      "39     1_0_B8A_p75    0.035407\n",
      "68    1_0_NDVI_p90    0.034413\n",
      "52     1_0_EVI_p50    0.028877\n",
      "1      1_0_B11_p10    0.026469\n",
      "..             ...         ...\n",
      "167  2_1_VV_stdDev    0.000905\n",
      "85      1_1_B2_p10    0.000834\n",
      "94      1_1_B3_p50    0.000797\n",
      "88      1_1_B2_p75    0.000636\n",
      "84     1_1_B2_mean    0.000576\n",
      "\n",
      "[168 rows x 2 columns]\n"
     ]
    }
   ],
   "source": [
    "# Get feature importances\n",
    "model_importance = models['merged_Typha']\n",
    "feature_importances = model_importance.feature_importances_\n",
    "\n",
    "# Create a DataFrame for better visualization\n",
    "feature_importance_df = pd.DataFrame({\n",
    "    'Feature': X.columns,\n",
    "    'Importance': feature_importances\n",
    "}).sort_values(by='Importance', ascending=False)\n",
    "\n",
    "print(feature_importance_df)"
   ]
  },
  {
   "cell_type": "markdown",
   "metadata": {},
   "source": [
    "## Predict in GEE"
   ]
  },
  {
   "cell_type": "markdown",
   "metadata": {},
   "source": [
    "### Seasons"
   ]
  },
  {
   "cell_type": "markdown",
   "metadata": {},
   "source": [
    "#### Spring and summer "
   ]
  },
  {
   "cell_type": "code",
   "execution_count": 179,
   "metadata": {},
   "outputs": [
    {
     "data": {
      "text/html": [
       "\n",
       "            <style>\n",
       "                .geemap-dark {\n",
       "                    --jp-widgets-color: white;\n",
       "                    --jp-widgets-label-color: white;\n",
       "                    --jp-ui-font-color1: white;\n",
       "                    --jp-layout-color2: #454545;\n",
       "                    background-color: #383838;\n",
       "                }\n",
       "\n",
       "                .geemap-dark .jupyter-button {\n",
       "                    --jp-layout-color3: #383838;\n",
       "                }\n",
       "\n",
       "                .geemap-colab {\n",
       "                    background-color: var(--colab-primary-surface-color, white);\n",
       "                }\n",
       "\n",
       "                .geemap-colab .jupyter-button {\n",
       "                    --jp-layout-color3: var(--colab-primary-surface-color, white);\n",
       "                }\n",
       "            </style>\n",
       "            "
      ],
      "text/plain": [
       "<IPython.core.display.HTML object>"
      ]
     },
     "metadata": {},
     "output_type": "display_data"
    }
   ],
   "source": [
    "import ee\n",
    "from geemap import ml\n",
    "\n",
    "def classify_and_export(image, classifier, description, folder, file_name_prefix, region, scale=10):\n",
    "    # Classify the image\n",
    "    classification = image.classify(classifier)\n",
    "    \n",
    "    # Export the classified image to Google Drive\n",
    "    task = ee.batch.Export.image.toDrive(\n",
    "        image=classification,\n",
    "        description=description,\n",
    "        folder=folder,\n",
    "        fileNamePrefix=file_name_prefix,\n",
    "        region=region,\n",
    "        scale=scale\n",
    "    )\n",
    "    task.start()\n",
    "\n",
    "# Define the parameters\n",
    "folder = 'geopy'\n",
    "region = roiGeom\n",
    "scale = 10\n",
    "\n",
    "# Define the images and classifiers\n",
    "images = {\n",
    "    'spring': merged_spring_stm_bands,\n",
    "    'summer': merged_summer_stm_bands\n",
    "}\n",
    "\n",
    "# classifiers = {\n",
    "#     'spring_wetgrassland': ee_classifier_spring_cs2_wetgrassland,\n",
    "#     'spring_Typha': ee_classifier_spring_cs2_Typha,\n",
    "#     'spring_Phragmites': ee_classifier_spring_cs2_Phragmites,\n",
    "#     'spring_shrubland': ee_classifier_spring_cs2_shrubland,\n",
    "#     'spring_water': ee_classifier_spring_cs2_water,\n",
    "#     'summer_wetgrassland': ee_classifier_summer_cs2_wetgrassland,\n",
    "#     'summer_Typha': ee_classifier_summer_cs2_Typha,\n",
    "#     'summer_Phragmites': ee_classifier_summer_cs2_Phragmites,\n",
    "#     'summer_shrubland': ee_classifier_summer_cs2_shrubland,\n",
    "#     'summer_water': ee_classifier_summer_cs2_water\n",
    "# }\n",
    "\n",
    "# Classify and export all images\n",
    "for season, image in images.items():\n",
    "    for landcover, classifier in ee_classifiers.items():\n",
    "        if season in landcover:\n",
    "            description = f'Peatland_{season}_Scheme2_{landcover.split(\"_\")[1]}'\n",
    "            file_name_prefix = f'Peatland_{season}_Scheme2_{landcover.split(\"_\")[1]}'\n",
    "            classify_and_export(image, classifier, description, folder, file_name_prefix, region, scale)"
   ]
  },
  {
   "cell_type": "markdown",
   "metadata": {},
   "source": [
    "#### Spring and Summer combined"
   ]
  },
  {
   "cell_type": "code",
   "execution_count": 184,
   "metadata": {},
   "outputs": [
    {
     "data": {
      "text/html": [
       "\n",
       "            <style>\n",
       "                .geemap-dark {\n",
       "                    --jp-widgets-color: white;\n",
       "                    --jp-widgets-label-color: white;\n",
       "                    --jp-ui-font-color1: white;\n",
       "                    --jp-layout-color2: #454545;\n",
       "                    background-color: #383838;\n",
       "                }\n",
       "\n",
       "                .geemap-dark .jupyter-button {\n",
       "                    --jp-layout-color3: #383838;\n",
       "                }\n",
       "\n",
       "                .geemap-colab {\n",
       "                    background-color: var(--colab-primary-surface-color, white);\n",
       "                }\n",
       "\n",
       "                .geemap-colab .jupyter-button {\n",
       "                    --jp-layout-color3: var(--colab-primary-surface-color, white);\n",
       "                }\n",
       "            </style>\n",
       "            "
      ],
      "text/plain": [
       "<IPython.core.display.HTML object>"
      ]
     },
     "metadata": {},
     "output_type": "display_data"
    }
   ],
   "source": [
    "import ee\n",
    "from geemap import ml\n",
    "\n",
    "def classify_and_export(image, classifier, description, folder, file_name_prefix, region, scale=10):\n",
    "    # Classify the image\n",
    "    classification = image.classify(classifier)\n",
    "    \n",
    "    # Export the classified image to Google Drive\n",
    "    task = ee.batch.Export.image.toDrive(\n",
    "        image=classification,\n",
    "        description=description,\n",
    "        folder=folder,\n",
    "        fileNamePrefix=file_name_prefix,\n",
    "        region=region,\n",
    "        scale=scale\n",
    "    )\n",
    "    task.start()\n",
    "\n",
    "# Define the parameters\n",
    "folder = 'geopy'\n",
    "region = roiGeom\n",
    "scale = 10\n",
    "\n",
    "# Define the images and classifiers\n",
    "images = {\n",
    "    'merged': merged_stm_seasonal\n",
    "}\n",
    "\n",
    "# classifiers = {\n",
    "#     'spring_wetgrassland': ee_classifier_spring_cs2_wetgrassland,\n",
    "#     'spring_Typha': ee_classifier_spring_cs2_Typha,\n",
    "#     'spring_Phragmites': ee_classifier_spring_cs2_Phragmites,\n",
    "#     'spring_shrubland': ee_classifier_spring_cs2_shrubland,\n",
    "#     'spring_water': ee_classifier_spring_cs2_water,\n",
    "#     'summer_wetgrassland': ee_classifier_summer_cs2_wetgrassland,\n",
    "#     'summer_Typha': ee_classifier_summer_cs2_Typha,\n",
    "#     'summer_Phragmites': ee_classifier_summer_cs2_Phragmites,\n",
    "#     'summer_shrubland': ee_classifier_summer_cs2_shrubland,\n",
    "#     'summer_water': ee_classifier_summer_cs2_water\n",
    "# }\n",
    "\n",
    "# Classify and export all images\n",
    "for season, image in images.items():\n",
    "    for landcover, classifier in ee_classifiers.items():\n",
    "        if season in landcover:\n",
    "            description = f'Peatland_{season}_Scheme2_{landcover.split(\"_\")[1]}'\n",
    "            file_name_prefix = f'Peatland_{season}_Scheme2_{landcover.split(\"_\")[1]}'\n",
    "            classify_and_export(image, classifier, description, folder, file_name_prefix, region, scale)"
   ]
  },
  {
   "cell_type": "markdown",
   "metadata": {},
   "source": [
    "## Validate fraction map from best model"
   ]
  },
  {
   "cell_type": "markdown",
   "metadata": {},
   "source": [
    "### Resample AVIRIS-NG map"
   ]
  },
  {
   "cell_type": "code",
   "execution_count": null,
   "metadata": {},
   "outputs": [
    {
     "name": "stdout",
     "output_type": "stream",
     "text": [
      "Typha - Min: 0.0, Max: 1.0\n",
      "Phragmites - Min: 0.0, Max: 1.0\n",
      "Shrublands - Min: 0.0, Max: 1.0\n",
      "Forest - Min: 0.0, Max: 1.0\n",
      "Non-wet grasslands - Min: 0.0, Max: 1.0\n",
      "Settlements - Min: 0.0, Max: 1.0\n",
      "Croplands - Min: 0.0, Max: 1.0\n",
      "Water bodies - Min: 0.0, Max: 1.0\n",
      "Wet grasslands - Min: 0.0, Max: 1.0\n"
     ]
    }
   ],
   "source": [
    "import rasterio\n",
    "from rasterio.enums import Resampling\n",
    "from rasterio.transform import from_origin\n",
    "import numpy as np\n",
    "\n",
    "# Path\n",
    "high_res_path = '/Users/annakober/Desktop/Uni/Master/WiSe24:25/geopy_data/MAP/GitHub/geopy_map/AVIRIS/aviris_classification_3035.tif'\n",
    "resampled_folder = '/Users/annakober/Desktop/Uni/Master/WiSe24:25/geopy_data/MAP/GitHub/geopy_map/AVIRIS/resampled_fractions/'\n",
    "\n",
    "# land cover classes\n",
    "landcover_classes = {\n",
    "    1: \"Phalaris\",\n",
    "    2: \"Typha\",\n",
    "    3: \"Phragmites\",\n",
    "    4: \"Shrublands\",\n",
    "    5: \"Forest\",\n",
    "    6: \"Non-wet grasslands\",\n",
    "    7: \"Settlements\",\n",
    "    8: \"Croplands\",\n",
    "    9: \"Water bodies\",\n",
    "    10: \"Wet grasslands\",\n",
    "    11: \"Carex\"\n",
    "}\n",
    "\n",
    "# create fraction maps\n",
    "with rasterio.open(high_res_path) as src:\n",
    "    # scale\n",
    "    target_resolution = 10\n",
    "    scale_factor = target_resolution / src.res[0]\n",
    "    width = int(src.width / scale_factor)\n",
    "    height = int(src.height / scale_factor)\n",
    "    \n",
    "    # load data\n",
    "    high_res_data = src.read(1)\n",
    "    \n",
    "    # Initiualize new data\n",
    "    resampled_data = {class_id: np.zeros((height, width), dtype=np.float32) for class_id in landcover_classes.keys()}\n",
    "    \n",
    "    # create fractions\n",
    "    for i in range(height):\n",
    "        for j in range(width):\n",
    "            # make out high_res pixels which are in the new pixel\n",
    "            high_res_pixels = high_res_data[\n",
    "                int(i*scale_factor):int((i+1)*scale_factor),\n",
    "                int(j*scale_factor):int((j+1)*scale_factor)\n",
    "            ]\n",
    "            \n",
    "            # calculate fractions\n",
    "            unique, counts = np.unique(high_res_pixels, return_counts=True)\n",
    "            fractions = dict(zip(unique, counts / high_res_pixels.size))\n",
    "            \n",
    "            # save everything\n",
    "            for class_id in landcover_classes.keys():\n",
    "                if class_id in [1, 11]:  # Phalaris und Carex zu Wet grasslands \n",
    "                    resampled_data[10][i, j] += fractions.get(class_id, 0)\n",
    "                else:\n",
    "                    resampled_data[class_id][i, j] = fractions.get(class_id, 0)\n",
    "    \n",
    "    # update transform\n",
    "    transform = from_origin(src.bounds.left, src.bounds.top, target_resolution, target_resolution)\n",
    "    \n",
    "    # uodate metadata\n",
    "    resampled_meta = src.meta.copy()\n",
    "    resampled_meta.update({\n",
    "        'transform': transform,\n",
    "        'width': width,\n",
    "        'height': height,\n",
    "        'count': 1,\n",
    "        'dtype': 'float32'\n",
    "    })\n",
    "    \n",
    "    # save\n",
    "    for class_id, class_name in landcover_classes.items():\n",
    "        if class_id in [1, 11]:\n",
    "            continue  # dont separate phalaris and carex\n",
    "        resampled_class_path = f'{resampled_folder}/{class_name}_fraction.tif'\n",
    "        with rasterio.open(resampled_class_path, 'w', **resampled_meta) as dst:\n",
    "            dst.write(resampled_data[class_id], 1)\n",
    "            # Debugging\n",
    "            print(f'{class_name} - Min: {resampled_data[class_id].min()}, Max: {resampled_data[class_id].max()}')"
   ]
  },
  {
   "cell_type": "markdown",
   "metadata": {},
   "source": [
    "### Calculate statistics"
   ]
  },
  {
   "cell_type": "code",
   "execution_count": null,
   "metadata": {},
   "outputs": [
    {
     "name": "stdout",
     "output_type": "stream",
     "text": [
      "\n",
      "Model: merged\n",
      "Typha:\n",
      "  MAE: 0.07399841398000717\n",
      "  MSE: 0.007799618877470493\n",
      "Phragmites:\n",
      "  MAE: 0.1261691153049469\n",
      "  MSE: 0.0352616012096405\n",
      "Wet grasslands:\n",
      "  MAE: 0.16310077905654907\n",
      "  MSE: 0.04778272286057472\n",
      "Shrublands:\n",
      "  MAE: 0.10528798401355743\n",
      "  MSE: 0.018018048256635666\n",
      "Water bodies:\n",
      "  MAE: 0.039817243814468384\n",
      "  MSE: 0.0029006667900830507\n",
      "\n",
      "Model: spring\n",
      "Typha:\n",
      "  MAE: 0.06663722544908524\n",
      "  MSE: 0.006235221400856972\n",
      "Phragmites:\n",
      "  MAE: 0.12738332152366638\n",
      "  MSE: 0.03198568895459175\n",
      "Wet grasslands:\n",
      "  MAE: 0.20084317028522491\n",
      "  MSE: 0.06149919331073761\n",
      "Shrublands:\n",
      "  MAE: 0.12000137567520142\n",
      "  MSE: 0.024559471756219864\n",
      "Water bodies:\n",
      "  MAE: 0.06835003942251205\n",
      "  MSE: 0.021410128101706505\n",
      "\n",
      "Model: summer\n",
      "Typha:\n",
      "  MAE: 0.12357237935066223\n",
      "  MSE: 0.029274512082338333\n",
      "Phragmites:\n",
      "  MAE: 0.13370269536972046\n",
      "  MSE: 0.027895338833332062\n",
      "Wet grasslands:\n",
      "  MAE: 0.18457883596420288\n",
      "  MSE: 0.07657622545957565\n",
      "Shrublands:\n",
      "  MAE: 0.10932508856058121\n",
      "  MSE: 0.0250186026096344\n",
      "Water bodies:\n",
      "  MAE: 0.04843953996896744\n",
      "  MSE: 0.005176488775759935\n"
     ]
    }
   ],
   "source": [
    "import numpy as np\n",
    "import random\n",
    "from sklearn.metrics import mean_absolute_error, mean_squared_error, r2_score\n",
    "import rasterio\n",
    "\n",
    "# Path\n",
    "fraction_maps = {\n",
    "    'merged': {\n",
    "        'Typha': '/Users/annakober/Desktop/Uni/Master/WiSe24:25/geopy_data/MAP/RGB Maps/fraction_maps/Peatland_merged_Scheme2_Typha.tif',\n",
    "        'Phragmites': '/Users/annakober/Desktop/Uni/Master/WiSe24:25/geopy_data/MAP/RGB Maps/fraction_maps/Peatland_merged_Scheme2_Phragmites.tif',\n",
    "        'Wet grasslands': '/Users/annakober/Desktop/Uni/Master/WiSe24:25/geopy_data/MAP/RGB Maps/fraction_maps/Peatland_merged_Scheme2_wetgrassland.tif',\n",
    "        'Shrublands': '/Users/annakober/Desktop/Uni/Master/WiSe24:25/geopy_data/MAP/RGB Maps/fraction_maps/Peatland_merged_Scheme2_shrubland.tif',\n",
    "        'Water bodies': '/Users/annakober/Desktop/Uni/Master/WiSe24:25/geopy_data/MAP/RGB Maps/fraction_maps/Peatland_merged_Scheme2_water.tif'\n",
    "    },\n",
    "    'spring': {\n",
    "        'Typha': '/Users/annakober/Desktop/Uni/Master/WiSe24:25/geopy_data/MAP/RGB Maps/fraction_maps/Peatland_spring_Scheme2_Typha.tif',\n",
    "        'Phragmites': '/Users/annakober/Desktop/Uni/Master/WiSe24:25/geopy_data/MAP/RGB Maps/fraction_maps/Peatland_spring_Scheme2_Phragmites.tif',\n",
    "        'Wet grasslands': '/Users/annakober/Desktop/Uni/Master/WiSe24:25/geopy_data/MAP/RGB Maps/fraction_maps/Peatland_spring_Scheme2_wetgrassland.tif',\n",
    "        'Shrublands': '/Users/annakober/Desktop/Uni/Master/WiSe24:25/geopy_data/MAP/RGB Maps/fraction_maps/Peatland_spring_Scheme2_shrubland.tif',\n",
    "        'Water bodies': '/Users/annakober/Desktop/Uni/Master/WiSe24:25/geopy_data/MAP/RGB Maps/fraction_maps/Peatland_spring_Scheme2_water.tif'\n",
    "    },\n",
    "    'summer': {\n",
    "        'Typha': '/Users/annakober/Desktop/Uni/Master/WiSe24:25/geopy_data/MAP/RGB Maps/fraction_maps/summer/Peatland_summer_Scheme2_Typha.tif',\n",
    "        'Phragmites': '/Users/annakober/Desktop/Uni/Master/WiSe24:25/geopy_data/MAP/RGB Maps/fraction_maps/summer/Peatland_summer_Scheme2_Phragmites.tif',\n",
    "        'Wet grasslands': '/Users/annakober/Desktop/Uni/Master/WiSe24:25/geopy_data/MAP/RGB Maps/fraction_maps/summer/Peatland_summer_Scheme2_wetgrassland.tif',\n",
    "        'Shrublands': '/Users/annakober/Desktop/Uni/Master/WiSe24:25/geopy_data/MAP/RGB Maps/fraction_maps/summer/Peatland_summer_Scheme2_shrubland.tif',\n",
    "        'Water bodies': '/Users/annakober/Desktop/Uni/Master/WiSe24:25/geopy_data/MAP/RGB Maps/fraction_maps/summer/Peatland_summer_Scheme2_water.tif'\n",
    "    }\n",
    "}\n",
    "\n",
    "# Paht to validation fractions\n",
    "resampled_folder = '/Users/annakober/Desktop/Uni/Master/WiSe24:25/geopy_data/MAP/GitHub/geopy_map/AVIRIS/resampled_fractions'\n",
    "\n",
    "# sample size\n",
    "num_samples = 50\n",
    "\n",
    "# generate random points\n",
    "def generate_random_points(transform, width, height, num_points):\n",
    "    points = []\n",
    "    for _ in range(num_points):\n",
    "        x = random.uniform(0, width)\n",
    "        y = random.uniform(0, height)\n",
    "        lon, lat = transform * (x, y)\n",
    "        points.append((lon, lat))\n",
    "    return points\n",
    "\n",
    "# iterate over all models\n",
    "for model_name, model_maps in fraction_maps.items():\n",
    "    print(f'\\nModel: {model_name}')\n",
    "    \n",
    "    # iterate over fractions\n",
    "    for class_name, fraction_path in model_maps.items():\n",
    "        resampled_class_path = f'{resampled_folder}/{class_name}_fraction.tif'\n",
    "        \n",
    "        with rasterio.open(resampled_class_path) as resampled_src:\n",
    "            resampled_data = resampled_src.read(1)\n",
    "            resampled_transform = resampled_src.transform\n",
    "            \n",
    "            with rasterio.open(fraction_path) as fraction_src:\n",
    "                fraction_data = fraction_src.read(1)\n",
    "                fraction_transform = fraction_src.transform\n",
    "                \n",
    "                # generate random points\n",
    "                height, width = resampled_data.shape\n",
    "                sample_points = generate_random_points(resampled_transform, width, height, num_samples)\n",
    "                \n",
    "                # extract values\n",
    "                resampled_samples = []\n",
    "                fraction_samples = []\n",
    "                for lon, lat in sample_points:\n",
    "                    resampled_row, resampled_col = ~resampled_transform * (lon, lat)\n",
    "                    fraction_row, fraction_col = ~fraction_transform * (lon, lat)\n",
    "                    \n",
    "                    resampled_row = int(resampled_row)\n",
    "                    resampled_col = int(resampled_col)\n",
    "                    fraction_row = int(fraction_row)\n",
    "                    fraction_col = int(fraction_col)\n",
    "                    \n",
    "                    if (0 <= resampled_row < height and 0 <= resampled_col < width and\n",
    "                        0 <= fraction_row < height and 0 <= fraction_col < width):\n",
    "                        resampled_samples.append(resampled_data[resampled_row, resampled_col])\n",
    "                        fraction_samples.append(fraction_data[fraction_row, fraction_col])\n",
    "                \n",
    "                # calculate metrics\n",
    "                mae = mean_absolute_error(resampled_samples, fraction_samples)\n",
    "                mse = mean_squared_error(resampled_samples, fraction_samples)\n",
    "                \n",
    "                print(f'{class_name}:')\n",
    "                print(f'  MAE: {mae}')\n",
    "                print(f'  MSE: {mse}')"
   ]
  },
  {
   "cell_type": "markdown",
   "metadata": {},
   "source": [
    "## Create figure for endmember feature space"
   ]
  },
  {
   "cell_type": "code",
   "execution_count": 54,
   "metadata": {},
   "outputs": [
    {
     "data": {
      "text/html": [
       "\n",
       "            <style>\n",
       "                .geemap-dark {\n",
       "                    --jp-widgets-color: white;\n",
       "                    --jp-widgets-label-color: white;\n",
       "                    --jp-ui-font-color1: white;\n",
       "                    --jp-layout-color2: #454545;\n",
       "                    background-color: #383838;\n",
       "                }\n",
       "\n",
       "                .geemap-dark .jupyter-button {\n",
       "                    --jp-layout-color3: #383838;\n",
       "                }\n",
       "\n",
       "                .geemap-colab {\n",
       "                    background-color: var(--colab-primary-surface-color, white);\n",
       "                }\n",
       "\n",
       "                .geemap-colab .jupyter-button {\n",
       "                    --jp-layout-color3: var(--colab-primary-surface-color, white);\n",
       "                }\n",
       "            </style>\n",
       "            "
      ],
      "text/plain": [
       "<IPython.core.display.HTML object>"
      ]
     },
     "metadata": {},
     "output_type": "display_data"
    },
    {
     "name": "stdout",
     "output_type": "stream",
     "text": [
      "Class ID: 1, Class Name(s): Wet Grassland\n",
      "Class ID: 2, Class Name(s): Typha\n",
      "Class ID: 3, Class Name(s): Phragmites\n",
      "Class ID: 4, Class Name(s): Shrublands\n",
      "Class ID: 5, Class Name(s): Forest\n",
      "Class ID: 6, Class Name(s): Non-wet grasslands\n",
      "Class ID: 7, Class Name(s): Other\n",
      "Class ID: 8, Class Name(s): Water\n"
     ]
    }
   ],
   "source": [
    "import geopandas as gpd\n",
    "\n",
    "points=gpd.read_file('/Users/annakober/Desktop/Uni/Master/WiSe24:25/geopy_data/MAP/sampled_points_scheme_2.gpkg')\n",
    "\n",
    "# Group by class ID and get the unique class names\n",
    "class_info = points.groupby('class')['class_name'].unique()\n",
    "\n",
    "# Print the class number and corresponding class name\n",
    "for class_id, class_names in class_info.items():\n",
    "    print(f\"Class ID: {class_id}, Class Name(s): {', '.join(class_names)}\")"
   ]
  },
  {
   "cell_type": "code",
   "execution_count": 55,
   "metadata": {},
   "outputs": [
    {
     "data": {
      "text/html": [
       "\n",
       "            <style>\n",
       "                .geemap-dark {\n",
       "                    --jp-widgets-color: white;\n",
       "                    --jp-widgets-label-color: white;\n",
       "                    --jp-ui-font-color1: white;\n",
       "                    --jp-layout-color2: #454545;\n",
       "                    background-color: #383838;\n",
       "                }\n",
       "\n",
       "                .geemap-dark .jupyter-button {\n",
       "                    --jp-layout-color3: #383838;\n",
       "                }\n",
       "\n",
       "                .geemap-colab {\n",
       "                    background-color: var(--colab-primary-surface-color, white);\n",
       "                }\n",
       "\n",
       "                .geemap-colab .jupyter-button {\n",
       "                    --jp-layout-color3: var(--colab-primary-surface-color, white);\n",
       "                }\n",
       "            </style>\n",
       "            "
      ],
      "text/plain": [
       "<IPython.core.display.HTML object>"
      ]
     },
     "metadata": {},
     "output_type": "display_data"
    },
    {
     "data": {
      "image/png": "[encoded data removed]",
      "text/plain": [
       "<Figure size 1000x800 with 1 Axes>"
      ]
     },
     "metadata": {},
     "output_type": "display_data"
    }
   ],
   "source": [
    "import geopandas as gpd\n",
    "import numpy as np\n",
    "import matplotlib.pyplot as plt\n",
    "from mpl_toolkits.mplot3d import Axes3D\n",
    "from scipy.spatial import ConvexHull\n",
    "\n",
    "# 52      1_0_EVI_p50    0.048641\n",
    "# 68     1_0_NDVI_p90    0.041193\n",
    "# 67     1_0_NDVI_p75 \n",
    "\n",
    "# Check the first few rows to understand the structure\n",
    "gdf = vals_merged_s2_df.copy()\n",
    "vals_merged_s2_df.head()\n",
    "\n",
    "# Extract relevant columns (adjust column names if needed)\n",
    "endmembers = gdf[['ID', '1_0_EVI_p50', '1_0_NDVI_p90', '1_0_NDVI_p75']]\n",
    "\n",
    "# get relevant classes\n",
    "classes = [2, 3] # Wet-Grasslands, Typha, Phragmites \n",
    "\n",
    "# Filter endmembers to include only specific classes\n",
    "endmembers = endmembers[endmembers['ID'].isin(classes)]\n",
    "\n",
    "# Convert to NumPy array for plotting\n",
    "points = endmembers[['1_0_EVI_p50', '1_0_NDVI_p90', '1_0_NDVI_p75']].values\n",
    "labels = endmembers['ID'].values\n",
    "\n",
    "# Create a colormap\n",
    "unique_labels = np.unique(labels)\n",
    "colors = plt.cm.get_cmap('tab20b', len(unique_labels))\n",
    "\n",
    "# Create a dictionary to map labels to colors\n",
    "label_to_color = {label: colors(i) for i, label in enumerate(unique_labels)}\n",
    "\n",
    "# Create 3D figure\n",
    "fig = plt.figure(figsize=(10, 8))\n",
    "ax = fig.add_subplot(111, projection='3d')\n",
    "\n",
    "# Scatter plot with color per class\n",
    "label_names = {2: 'Typha', 3: 'Phragmites'}\n",
    "\n",
    "for label in unique_labels:\n",
    "    idx = labels == label\n",
    "    ax.scatter(points[idx, 0], points[idx, 1], points[idx, 2], c=[label_to_color[label]], label=label_names[label], marker='o')\n",
    "\n",
    "# Calculate and plot the convex hull for each class\n",
    "for label in unique_labels:\n",
    "    class_points = points[labels == label]\n",
    "    hull = ConvexHull(class_points)\n",
    "    for simplex in hull.simplices:\n",
    "        ax.plot(class_points[simplex, 0], class_points[simplex, 1], class_points[simplex, 2], c=label_to_color[label])\n",
    "\n",
    "# Set labels and title\n",
    "ax.set_xlabel(\"EVI_p50\")\n",
    "ax.set_ylabel(\"NDVI_p90\")\n",
    "ax.set_zlabel(\"NDVI_p75\")\n",
    "ax.set_title(\"Endmember Distribution in EVI/NDVI Feature Space\")\n",
    "\n",
    "# Adjust view\n",
    "ax.view_init(elev=20, azim=45)\n",
    "\n",
    "# Add legend\n",
    "ax.legend()\n",
    "\n",
    "plt.show()"
   ]
  },
  {
   "cell_type": "markdown",
   "metadata": {},
   "source": [
    "## Calculate Vegetations fractions inside peatland boundary"
   ]
  },
  {
   "cell_type": "markdown",
   "metadata": {},
   "source": [
    "### Extract exact outline of Arasumani et al. AVIRIS-NG classification map"
   ]
  },
  {
   "cell_type": "code",
   "execution_count": 56,
   "metadata": {},
   "outputs": [
    {
     "data": {
      "text/html": [
       "\n",
       "            <style>\n",
       "                .geemap-dark {\n",
       "                    --jp-widgets-color: white;\n",
       "                    --jp-widgets-label-color: white;\n",
       "                    --jp-ui-font-color1: white;\n",
       "                    --jp-layout-color2: #454545;\n",
       "                    background-color: #383838;\n",
       "                }\n",
       "\n",
       "                .geemap-dark .jupyter-button {\n",
       "                    --jp-layout-color3: #383838;\n",
       "                }\n",
       "\n",
       "                .geemap-colab {\n",
       "                    background-color: var(--colab-primary-surface-color, white);\n",
       "                }\n",
       "\n",
       "                .geemap-colab .jupyter-button {\n",
       "                    --jp-layout-color3: var(--colab-primary-surface-color, white);\n",
       "                }\n",
       "            </style>\n",
       "            "
      ],
      "text/plain": [
       "<IPython.core.display.HTML object>"
      ]
     },
     "metadata": {},
     "output_type": "display_data"
    }
   ],
   "source": [
    "# read file\n",
    "path = '/Users/annakober/Desktop/Uni/Master/WiSe24:25/geopy_data/MAP/GitHub/geopy_map/AVIRIS/aviris_classification.gpkg'\n",
    "gdf = gpd.read_file(path)\n",
    "\n",
    "# first unionize the geometries and then extract boundary\n",
    "outline = gdf.geometry.union_all().convex_hull"
   ]
  },
  {
   "cell_type": "code",
   "execution_count": 20,
   "metadata": {},
   "outputs": [
    {
     "data": {
      "text/html": [
       "\n",
       "            <style>\n",
       "                .geemap-dark {\n",
       "                    --jp-widgets-color: white;\n",
       "                    --jp-widgets-label-color: white;\n",
       "                    --jp-ui-font-color1: white;\n",
       "                    --jp-layout-color2: #454545;\n",
       "                    background-color: #383838;\n",
       "                }\n",
       "\n",
       "                .geemap-dark .jupyter-button {\n",
       "                    --jp-layout-color3: #383838;\n",
       "                }\n",
       "\n",
       "                .geemap-colab {\n",
       "                    background-color: var(--colab-primary-surface-color, white);\n",
       "                }\n",
       "\n",
       "                .geemap-colab .jupyter-button {\n",
       "                    --jp-layout-color3: var(--colab-primary-surface-color, white);\n",
       "                }\n",
       "            </style>\n",
       "            "
      ],
      "text/plain": [
       "<IPython.core.display.HTML object>"
      ]
     },
     "metadata": {},
     "output_type": "display_data"
    }
   ],
   "source": [
    "# save outline as geopackage\n",
    "outline_gdf = gpd.GeoDataFrame(geometry=[outline], crs=gdf.crs)\n",
    "\n",
    "# reprojct to epsg 3035\n",
    "outline_gdf = outline_gdf.to_crs(epsg=3035)\n",
    "\n",
    "outline_gdf.to_file('/Users/annakober/Desktop/Uni/Master/WiSe24:25/geopy_data/MAP/GitHub/geopy_map/AVIRIS/aviris_classification_outline.gpkg', driver='GPKG')"
   ]
  },
  {
   "cell_type": "markdown",
   "metadata": {},
   "source": [
    "#### Get the peatland boundaries shapefile from Greifswald Moor Centrum here: https://www.greifswaldmoor.de/files/dokumente/GMC%20Schriften/DEU_orgBod_GMC_202105/DEU_orgBod_GMC_update202105.zip"
   ]
  },
  {
   "cell_type": "code",
   "execution_count": null,
   "metadata": {},
   "outputs": [
    {
     "data": {
      "text/html": [
       "\n",
       "            <style>\n",
       "                .geemap-dark {\n",
       "                    --jp-widgets-color: white;\n",
       "                    --jp-widgets-label-color: white;\n",
       "                    --jp-ui-font-color1: white;\n",
       "                    --jp-layout-color2: #454545;\n",
       "                    background-color: #383838;\n",
       "                }\n",
       "\n",
       "                .geemap-dark .jupyter-button {\n",
       "                    --jp-layout-color3: #383838;\n",
       "                }\n",
       "\n",
       "                .geemap-colab {\n",
       "                    background-color: var(--colab-primary-surface-color, white);\n",
       "                }\n",
       "\n",
       "                .geemap-colab .jupyter-button {\n",
       "                    --jp-layout-color3: var(--colab-primary-surface-color, white);\n",
       "                }\n",
       "            </style>\n",
       "            "
      ],
      "text/plain": [
       "<IPython.core.display.HTML object>"
      ]
     },
     "metadata": {},
     "output_type": "display_data"
    }
   ],
   "source": [
    "# define paths\n",
    "img_path = '/Users/annakober/Desktop/Uni/Master/WiSe24:25/geopy_data/MAP/RGB Maps/fraction_maps/Peatland_Spring_Summer_Scheme1.tif'\n",
    "petland_boundaries_path = '/Users/annakober/Desktop/Uni/Master/WiSe24:25/geopy_data/MAP/peatland_boundaries/DEU_orgBod_GMC_update202105.shp'\n",
    "\n",
    "# read data\n",
    "fmap_l1 = gdal.Open(img_path)\n",
    "fmap_l1_rast = fmap_l1.ReadAsArray()\n",
    "\n",
    "peat_bounds = ogr.Open(petland_boundaries_path)\n",
    "peat_bounds_lyr = peat_bounds.GetLayer()"
   ]
  },
  {
   "cell_type": "markdown",
   "metadata": {},
   "source": [
    "#### Reproject Greifswald Moor Centrum shapefile to EPSG 3035 and clip to raster extent"
   ]
  },
  {
   "cell_type": "code",
   "execution_count": 64,
   "metadata": {},
   "outputs": [
    {
     "data": {
      "text/html": [
       "\n",
       "            <style>\n",
       "                .geemap-dark {\n",
       "                    --jp-widgets-color: white;\n",
       "                    --jp-widgets-label-color: white;\n",
       "                    --jp-ui-font-color1: white;\n",
       "                    --jp-layout-color2: #454545;\n",
       "                    background-color: #383838;\n",
       "                }\n",
       "\n",
       "                .geemap-dark .jupyter-button {\n",
       "                    --jp-layout-color3: #383838;\n",
       "                }\n",
       "\n",
       "                .geemap-colab {\n",
       "                    background-color: var(--colab-primary-surface-color, white);\n",
       "                }\n",
       "\n",
       "                .geemap-colab .jupyter-button {\n",
       "                    --jp-layout-color3: var(--colab-primary-surface-color, white);\n",
       "                }\n",
       "            </style>\n",
       "            "
      ],
      "text/plain": [
       "<IPython.core.display.HTML object>"
      ]
     },
     "metadata": {},
     "output_type": "display_data"
    }
   ],
   "source": [
    "# get geometries of peatland boundaries for reprojecting\n",
    "peat_geometry_feat = peat_bounds_lyr[0]\n",
    "peat_geometry = peat_geometry_feat.geometry()"
   ]
  },
  {
   "cell_type": "code",
   "execution_count": null,
   "metadata": {},
   "outputs": [
    {
     "data": {
      "text/html": [
       "\n",
       "            <style>\n",
       "                .geemap-dark {\n",
       "                    --jp-widgets-color: white;\n",
       "                    --jp-widgets-label-color: white;\n",
       "                    --jp-ui-font-color1: white;\n",
       "                    --jp-layout-color2: #454545;\n",
       "                    background-color: #383838;\n",
       "                }\n",
       "\n",
       "                .geemap-dark .jupyter-button {\n",
       "                    --jp-layout-color3: #383838;\n",
       "                }\n",
       "\n",
       "                .geemap-colab {\n",
       "                    background-color: var(--colab-primary-surface-color, white);\n",
       "                }\n",
       "\n",
       "                .geemap-colab .jupyter-button {\n",
       "                    --jp-layout-color3: var(--colab-primary-surface-color, white);\n",
       "                }\n",
       "            </style>\n",
       "            "
      ],
      "text/plain": [
       "<IPython.core.display.HTML object>"
      ]
     },
     "metadata": {},
     "output_type": "display_data"
    }
   ],
   "source": [
    "# reproject peatland boundaries to EPSG:3035\n",
    "# Create the rule for transforming coordinates from one spatial reference to another\n",
    "fromCS = peat_bounds_lyr.GetSpatialRef()\n",
    "toCS = fmap_l1.GetSpatialRef()\n",
    "toCS.ImportFromEPSG(3035)\n",
    "ct = osr.CoordinateTransformation(fromCS, toCS)"
   ]
  },
  {
   "cell_type": "code",
   "execution_count": null,
   "metadata": {},
   "outputs": [],
   "source": [
    "# save to file\n",
    "driver = ogr.GetDriverByName('ESRI Shapefile')\n",
    "peat_geometry_shp = driver.CreateDataSource('/Users/annakober/Desktop/Uni/Master/WiSe24:25/geopy_data/MAP/peatland_boundaries/peatland_boundaries_epsg3035.shp')\n",
    "peat_geometry_lyr = peat_geometry_shp.CreateLayer('', geom_type=ogr.wkbPolygon)\n",
    "\n",
    "# Copy the fields from the input layer to the output layer\n",
    "inLayerDefn = peat_bounds_lyr.GetLayerDefn()\n",
    "for i in range(inLayerDefn.GetFieldCount()):\n",
    "    fieldDefn = inLayerDefn.GetFieldDefn(i)\n",
    "    peat_geometry_lyr.CreateField(fieldDefn)\n",
    "\n",
    "# Reproject each feature and add it to the output layer\n",
    "for feature in peat_bounds_lyr:\n",
    "    geom = feature.GetGeometryRef()\n",
    "    geom.Transform(ct)\n",
    "    outFeature = ogr.Feature(peat_geometry_lyr.GetLayerDefn())\n",
    "    outFeature.SetGeometry(geom)\n",
    "    for i in range(feature.GetFieldCount()):\n",
    "        outFeature.SetField(i, feature.GetField(i))\n",
    "    peat_geometry_lyr.CreateFeature(outFeature)\n",
    "    outFeature = None\n",
    "\n",
    "# Clean up\n",
    "peat_bounds = None\n",
    "peat_geometry_shp = None\n"
   ]
  },
  {
   "cell_type": "code",
   "execution_count": null,
   "metadata": {},
   "outputs": [],
   "source": [
    "# now clip the peatland boundary shapefile to the extent og the raster\n",
    "ulx, xres, xskew, uly, yskew, yres = fmap_l1.GetGeoTransform()\n",
    "sizeX = fmap_l1.RasterXSize * xres\n",
    "sizeY = fmap_l1.RasterYSize * yres\n",
    "lrx = ulx + sizeX\n",
    "lry = uly + sizeY\n",
    "\n",
    "# Open the input shapefile\n",
    "peat_bounds_3035 = '/Users/annakober/Desktop/Uni/Master/WiSe24:25/geopy_data/MAP/peatland_boundaries/peatland_boundaries_epsg3035.shp'\n",
    "driver = ogr.GetDriverByName('ESRI Shapefile')\n",
    "inVector = driver.Open(peat_bounds_3035, 0)\n",
    "inLayer = inVector.GetLayer()\n",
    "\n",
    "# Create the output shapefile\n",
    "peat_bounds_3035_clipped = '/Users/annakober/Desktop/Uni/Master/WiSe24:25/geopy_data/MAP/peatland_boundaries/peatland_boundaries_epsg3035_clipped.shp'\n",
    "\n",
    "# Assign the coordinate system\n",
    "srs = osr.SpatialReference()\n",
    "srs.ImportFromEPSG(3035)\n",
    "\n",
    "if driver.Open(peat_bounds_3035_clipped, 0):\n",
    "    driver.DeleteDataSource(peat_bounds_3035_clipped)\n",
    "outVector = driver.CreateDataSource(peat_bounds_3035_clipped)\n",
    "outLayer = outVector.CreateLayer('', srs, geom_type=ogr.wkbPolygon)\n",
    "\n",
    "# Copy the fields from the input layer to the output layer\n",
    "inLayerDefn = inLayer.GetLayerDefn()\n",
    "for i in range(inLayerDefn.GetFieldCount()):\n",
    "    fieldDefn = inLayerDefn.GetFieldDefn(i)\n",
    "    outLayer.CreateField(fieldDefn)\n",
    "\n",
    "# Create a spatial filter using the raster extent\n",
    "extent = (ulx, lry, lrx, uly)\n",
    "inLayer.SetSpatialFilterRect(*extent)\n",
    "\n",
    "# Copy the features from the input layer to the output layer\n",
    "for feature in inLayer:\n",
    "    geom = feature.GetGeometryRef()\n",
    "    if not geom.IsValid():\n",
    "        geom = geom.MakeValid()  # Fix invalid geometries\n",
    "    outFeature = ogr.Feature(outLayer.GetLayerDefn())\n",
    "    outFeature.SetGeometry(geom)\n",
    "    for i in range(feature.GetFieldCount()):\n",
    "        outFeature.SetField(i, feature.GetField(i))\n",
    "    outLayer.CreateFeature(outFeature)\n",
    "    outFeature = None\n",
    "\n",
    "\n",
    "# Clean up\n",
    "inVector = None\n",
    "outVector = None\n",
    "\n"
   ]
  },
  {
   "cell_type": "markdown",
   "metadata": {},
   "source": [
    "#### Clip fraction map to outline of Arasumani et al. AVIRIS-NG classification map"
   ]
  },
  {
   "cell_type": "code",
   "execution_count": 22,
   "metadata": {},
   "outputs": [
    {
     "data": {
      "text/html": [
       "\n",
       "            <style>\n",
       "                .geemap-dark {\n",
       "                    --jp-widgets-color: white;\n",
       "                    --jp-widgets-label-color: white;\n",
       "                    --jp-ui-font-color1: white;\n",
       "                    --jp-layout-color2: #454545;\n",
       "                    background-color: #383838;\n",
       "                }\n",
       "\n",
       "                .geemap-dark .jupyter-button {\n",
       "                    --jp-layout-color3: #383838;\n",
       "                }\n",
       "\n",
       "                .geemap-colab {\n",
       "                    background-color: var(--colab-primary-surface-color, white);\n",
       "                }\n",
       "\n",
       "                .geemap-colab .jupyter-button {\n",
       "                    --jp-layout-color3: var(--colab-primary-surface-color, white);\n",
       "                }\n",
       "            </style>\n",
       "            "
      ],
      "text/plain": [
       "<IPython.core.display.HTML object>"
      ]
     },
     "metadata": {},
     "output_type": "display_data"
    },
    {
     "name": "stdout",
     "output_type": "stream",
     "text": [
      "Clipping successful.\n"
     ]
    }
   ],
   "source": [
    "from osgeo import gdal, ogr\n",
    "\n",
    "# Define the input and output file paths\n",
    "img_path = '/Users/annakober/Desktop/Uni/Master/WiSe24:25/geopy_data/MAP/RGB Maps/fraction_maps/Peatland_Spring_Summer_Scheme1.tif'\n",
    "clipped_fmap_l1 = '/Users/annakober/Desktop/Uni/Master/WiSe24:25/geopy_data/MAP/RGB Maps/fraction_maps/Peatland_Spring_Summer_Scheme1_clipped_Arasumani.tif'\n",
    "outline_gdf = '/Users/annakober/Desktop/Uni/Master/WiSe24:25/geopy_data/MAP/GitHub/geopy_map/AVIRIS/aviris_classification_outline.gpkg'\n",
    "\n",
    "# Clip the raster using the shapefile\n",
    "OutTile = gdal.Warp(clipped_fmap_l1, \n",
    "                    img_path, \n",
    "                    cutlineDSName=outline_gdf,\n",
    "                    cropToCutline=True,\n",
    "                    dstNodata=0)\n",
    "\n",
    "# Check if the operation was successful\n",
    "if OutTile is None:\n",
    "    print(\"Clipping failed.\")\n",
    "else:\n",
    "    print(\"Clipping successful.\")"
   ]
  },
  {
   "cell_type": "markdown",
   "metadata": {},
   "source": [
    "#### Clip to peatland boundaries"
   ]
  },
  {
   "cell_type": "code",
   "execution_count": null,
   "metadata": {},
   "outputs": [],
   "source": [
    "from osgeo import gdal, ogr\n",
    "\n",
    "# Define the input and output file paths\n",
    "img_path = '/Users/annakober/Desktop/Uni/Master/WiSe24:25/geopy_data/MAP/RGB Maps/fraction_maps/Peatland_Spring_Summer_Scheme1_clipped_Arasumani.tif'\n",
    "cropped_fmap_l1 = '/Users/annakober/Desktop/Uni/Master/WiSe24:25/geopy_data/MAP/RGB Maps/fraction_maps/Peatland_Spring_Summer_Scheme1_cropped.tif'\n",
    "peat_bounds_3035_clipped = '/Users/annakober/Desktop/Uni/Master/WiSe24:25/geopy_data/MAP/peatland_boundaries/peatland_boundaries_epsg3035_clipped.shp'\n",
    "\n",
    "\n",
    "# Clip the raster using the shapefile\n",
    "OutTile = gdal.Warp(cropped_fmap_l1, \n",
    "                    img_path, \n",
    "                    cutlineDSName=peat_bounds_3035_clipped,\n",
    "                    cropToCutline=True,\n",
    "                    dstNodata=0)\n",
    "\n",
    "# Check if the operation was successful\n",
    "if OutTile is None:\n",
    "    print(\"Clipping failed.\")\n",
    "else:\n",
    "    print(\"Clipping successful.\")"
   ]
  },
  {
   "cell_type": "markdown",
   "metadata": {},
   "source": [
    "### Clip best scheme 2 result to Greifswald Moor Centrum peatland boundary layer"
   ]
  },
  {
   "cell_type": "code",
   "execution_count": null,
   "metadata": {},
   "outputs": [],
   "source": [
    "import os\n",
    "from osgeo import gdal, ogr\n",
    "\n",
    "# Define paths\n",
    "typha_path = '/Users/annakober/Desktop/Uni/Master/WiSe24:25/geopy_data/MAP/RGB Maps/fraction_maps/Peatland_merged_Scheme2_Typha.tif'\n",
    "phragmites_path = '/Users/annakober/Desktop/Uni/Master/WiSe24:25/geopy_data/MAP/RGB Maps/fraction_maps/Peatland_merged_Scheme2_Phragmites.tif'\n",
    "outline_gdf = '/Users/annakober/Desktop/Uni/Master/WiSe24:25/geopy_data/MAP/GitHub/geopy_map/AVIRIS/aviris_classification_outline.gpkg'\n",
    "\n",
    "# Function to clip raster using shapefile\n",
    "def clip_raster(input_raster_path, output_raster_path, shapefile_path):\n",
    "    OutTile = gdal.Warp(output_raster_path, \n",
    "                        input_raster_path, \n",
    "                        cutlineDSName=shapefile_path, \n",
    "                        cropToCutline=True, \n",
    "                        dstNodata=0)\n",
    "\n",
    "    # Check if the operation was successful\n",
    "    if OutTile is None:\n",
    "        print(f\"Clipping {input_raster_path} failed.\")\n",
    "    else:\n",
    "        print(f\"Clipping {input_raster_path} successful.\")\n",
    "\n",
    "# Clip Typha raster\n",
    "clip_raster(typha_path, '/Users/annakober/Desktop/Uni/Master/WiSe24:25/geopy_data/MAP/RGB Maps/fraction_maps/Peatland_merged_Scheme2_Typha_clipped_arasumani.tif', outline_gdf)\n",
    "\n",
    "# Clip Phragmites raster\n",
    "clip_raster(phragmites_path, '/Users/annakober/Desktop/Uni/Master/WiSe24:25/geopy_data/MAP/RGB Maps/fraction_maps/Peatland_merged_Scheme2_Phragmites_clipped_arasumani.tif', outline_gdf)"
   ]
  },
  {
   "cell_type": "code",
   "execution_count": null,
   "metadata": {},
   "outputs": [],
   "source": [
    "import os\n",
    "from osgeo import gdal, ogr\n",
    "\n",
    "# Define paths\n",
    "typha_path = '/Users/annakober/Desktop/Uni/Master/WiSe24:25/geopy_data/MAP/RGB Maps/fraction_maps/Peatland_merged_Scheme2_Typha_clipped_arasumani.tif'\n",
    "phragmites_path = '/Users/annakober/Desktop/Uni/Master/WiSe24:25/geopy_data/MAP/RGB Maps/fraction_maps/Peatland_merged_Scheme2_Phragmites_clipped_arasumani.tif'\n",
    "peat_bounds_3035_clipped = '/Users/annakober/Desktop/Uni/Master/WiSe24:25/geopy_data/MAP/peatland_boundaries/peatland_boundaries_epsg3035_clipped.shp'\n",
    "\n",
    "# Function to clip raster using shapefile\n",
    "def clip_raster(input_raster_path, output_raster_path, shapefile_path):\n",
    "    OutTile = gdal.Warp(output_raster_path, \n",
    "                        input_raster_path, \n",
    "                        cutlineDSName=shapefile_path, \n",
    "                        cropToCutline=True, \n",
    "                        dstNodata=0)\n",
    "\n",
    "    # Check if the operation was successful\n",
    "    if OutTile is None:\n",
    "        print(f\"Clipping {input_raster_path} failed.\")\n",
    "    else:\n",
    "        print(f\"Clipping {input_raster_path} successful.\")\n",
    "\n",
    "# Clip Typha raster\n",
    "clip_raster(typha_path, '/Users/annakober/Desktop/Uni/Master/WiSe24:25/geopy_data/MAP/RGB Maps/fraction_maps/Peatland_merged_Scheme2_Typha_clipped.tif', peat_bounds_3035_clipped)\n",
    "\n",
    "# Clip Phragmites raster\n",
    "clip_raster(phragmites_path, '/Users/annakober/Desktop/Uni/Master/WiSe24:25/geopy_data/MAP/RGB Maps/fraction_maps/Peatland_merged_Scheme2_Phragmites_clipped.tif', peat_bounds_3035_clipped)"
   ]
  },
  {
   "cell_type": "markdown",
   "metadata": {},
   "source": [
    "### Clip Arasumani et al. AVIRIS-NG Map to the Greifswald Moor Centrum Peatland boundaries as a validation source"
   ]
  },
  {
   "cell_type": "code",
   "execution_count": null,
   "metadata": {},
   "outputs": [],
   "source": [
    "from osgeo import ogr\n",
    "\n",
    "# Define paths\n",
    "clip_path = '/Users/annakober/Desktop/Uni/Master/WiSe24:25/geopy_data/MAP/clip_classifcation.gpkg'\n",
    "peatland_boundaries3035_path = '/Users/annakober/Desktop/Uni/Master/WiSe24:25/geopy_data/MAP/peatland_boundaries/peatland_boundaries_epsg3035.shp'\n",
    "\n",
    "# Open the classification map layer\n",
    "class_bounds_path = '/Users/annakober/Desktop/Uni/Master/WiSe24:25/geopy_data/MAP/arasumani_classifcation_3035.gpkg' # Update with your actual path\n",
    "class_bounds_ds = ogr.Open(class_bounds_path)\n",
    "class_bounds_lyr = class_bounds_ds.GetLayer()\n",
    "\n",
    "# Create the clipping layer\n",
    "clip_driver = ogr.GetDriverByName('GPKG')\n",
    "clip_ds = clip_driver.CreateDataSource(clip_path)\n",
    "clip_lyr = clip_ds.CreateLayer('clip_classifcation', geom_type=ogr.wkbPolygon)\n",
    "\n",
    "# Copy the fields from the original classification map\n",
    "class_bounds_lyr_defn = class_bounds_lyr.GetLayerDefn()\n",
    "for i in range(class_bounds_lyr_defn.GetFieldCount()):\n",
    "    field_defn = class_bounds_lyr_defn.GetFieldDefn(i)\n",
    "    clip_lyr.CreateField(field_defn)\n",
    "\n",
    "# Get the peatland boundaries\n",
    "peat_bounds3035 = ogr.Open(peatland_boundaries3035_path)\n",
    "peat_lyr = peat_bounds3035.GetLayer()\n",
    "peat_lyr.ResetReading()\n",
    "\n",
    "# Clip the classification map to the peatland boundaries\n",
    "for class_feat in class_bounds_lyr:\n",
    "    class_geom = class_feat.GetGeometryRef()\n",
    "    peat_lyr.ResetReading()  # Reset reading to iterate over all peatland features\n",
    "    for peat_feat in peat_lyr:\n",
    "        peat_geom = peat_feat.GetGeometryRef()\n",
    "        if not peat_geom.IsValid():\n",
    "            peat_geom = peat_geom.MakeValid()  # Fix invalid geometries\n",
    "        if class_geom.Intersects(peat_geom):\n",
    "            intersection = class_geom.Intersection(peat_geom)\n",
    "            clip_feat = ogr.Feature(clip_lyr.GetLayerDefn())\n",
    "            clip_feat.SetGeometry(intersection)\n",
    "            for i in range(class_bounds_lyr_defn.GetFieldCount()):\n",
    "                clip_feat.SetField(class_bounds_lyr_defn.GetFieldDefn(i).GetNameRef(), class_feat.GetField(i))\n",
    "            clip_lyr.CreateFeature(clip_feat)\n",
    "            clip_feat = None\n",
    "\n",
    "# Close the data sources\n",
    "class_bounds_ds = None\n",
    "peat_bounds3035 = None\n",
    "clip_ds = None"
   ]
  },
  {
   "cell_type": "markdown",
   "metadata": {},
   "source": [
    "### Calculate vegetation fractions of clipped raster and convert to area\n"
   ]
  },
  {
   "cell_type": "markdown",
   "metadata": {},
   "source": [
    "#### My results"
   ]
  },
  {
   "cell_type": "code",
   "execution_count": 30,
   "metadata": {},
   "outputs": [
    {
     "data": {
      "text/html": [
       "\n",
       "            <style>\n",
       "                .geemap-dark {\n",
       "                    --jp-widgets-color: white;\n",
       "                    --jp-widgets-label-color: white;\n",
       "                    --jp-ui-font-color1: white;\n",
       "                    --jp-layout-color2: #454545;\n",
       "                    background-color: #383838;\n",
       "                }\n",
       "\n",
       "                .geemap-dark .jupyter-button {\n",
       "                    --jp-layout-color3: #383838;\n",
       "                }\n",
       "\n",
       "                .geemap-colab {\n",
       "                    background-color: var(--colab-primary-surface-color, white);\n",
       "                }\n",
       "\n",
       "                .geemap-colab .jupyter-button {\n",
       "                    --jp-layout-color3: var(--colab-primary-surface-color, white);\n",
       "                }\n",
       "            </style>\n",
       "            "
      ],
      "text/plain": [
       "<IPython.core.display.HTML object>"
      ]
     },
     "metadata": {},
     "output_type": "display_data"
    },
    {
     "name": "stdout",
     "output_type": "stream",
     "text": [
      "Total area of Typha: 1896795.875 m²\n",
      "Total area of Phragmites: 4810789.0 m²\n"
     ]
    }
   ],
   "source": [
    "import numpy as np\n",
    "# values in maps represent the fraction of the respective class\n",
    "# if the pixel is 10x10 m i need to multiply the fraction by 100 to get the area in m^2\n",
    "# then i can sum up the areas of all pixels with the same class to get the total\n",
    "# i need to incorporate a threshold to only consider pixels with a fraction above a certain threshold\n",
    "\n",
    "# Define the paths to the clipped rasters\n",
    "typha_clipped_path = '/Users/annakober/Desktop/Uni/Master/WiSe24:25/geopy_data/MAP/RGB Maps/fraction_maps/Peatland_merged_Scheme2_Typha_clipped.tif'\n",
    "phragmites_clipped_path = '/Users/annakober/Desktop/Uni/Master/WiSe24:25/geopy_data/MAP/RGB Maps/fraction_maps/Peatland_merged_Scheme2_Phragmites_clipped.tif'\n",
    "\n",
    "# Open the rasters\n",
    "typha_clipped = gdal.Open(typha_clipped_path)\n",
    "phragmites_clipped = gdal.Open(phragmites_clipped_path)\n",
    "\n",
    "# Get the raster bands\n",
    "typha_band = typha_clipped.GetRasterBand(1)\n",
    "phragmites_band = phragmites_clipped.GetRasterBand(1)\n",
    "\n",
    "# Get the pixel size\n",
    "xres = typha_clipped.GetGeoTransform()[1]\n",
    "yres = typha_clipped.GetGeoTransform()[5]\n",
    "\n",
    "# Get the pixel values\n",
    "typha_array = typha_band.ReadAsArray()\n",
    "phragmites_array = phragmites_band.ReadAsArray()\n",
    "\n",
    "# Calculate the area of each pixel but only if they axceed a certain threshold\n",
    "pixel_area = abs(xres * yres)\n",
    "\n",
    "threshold = 0.2\n",
    "typha_array_masked = typha_array[typha_array < threshold] = 0\n",
    "phragmites_array_masked = phragmites_array[phragmites_array < threshold] = 0\n",
    "\n",
    "# Calculate the total area of Typha and Phragmites\n",
    "typha_area = np.sum(typha_array) * pixel_area\n",
    "phragmites_area = np.sum(phragmites_array) * pixel_area\n",
    "\n",
    "# Print the results\n",
    "print(f\"Total area of Typha: {typha_area} m²\")\n",
    "\n",
    "print(f\"Total area of Phragmites: {phragmites_area} m²\")"
   ]
  },
  {
   "cell_type": "markdown",
   "metadata": {},
   "source": [
    "#### AVIRIS-NG classification map from Arasumani et al."
   ]
  },
  {
   "cell_type": "code",
   "execution_count": 31,
   "metadata": {},
   "outputs": [
    {
     "data": {
      "text/html": [
       "\n",
       "            <style>\n",
       "                .geemap-dark {\n",
       "                    --jp-widgets-color: white;\n",
       "                    --jp-widgets-label-color: white;\n",
       "                    --jp-ui-font-color1: white;\n",
       "                    --jp-layout-color2: #454545;\n",
       "                    background-color: #383838;\n",
       "                }\n",
       "\n",
       "                .geemap-dark .jupyter-button {\n",
       "                    --jp-layout-color3: #383838;\n",
       "                }\n",
       "\n",
       "                .geemap-colab {\n",
       "                    background-color: var(--colab-primary-surface-color, white);\n",
       "                }\n",
       "\n",
       "                .geemap-colab .jupyter-button {\n",
       "                    --jp-layout-color3: var(--colab-primary-surface-color, white);\n",
       "                }\n",
       "            </style>\n",
       "            "
      ],
      "text/plain": [
       "<IPython.core.display.HTML object>"
      ]
     },
     "metadata": {},
     "output_type": "display_data"
    },
    {
     "name": "stdout",
     "output_type": "stream",
     "text": [
      "Total area of Typha: 1226300.9113776197 m²\n",
      "Total area of Phragmites: 3491756.9705319027 m²\n"
     ]
    }
   ],
   "source": [
    "import geopandas as gpd\n",
    "# ## Calculate vegetation fraction for the clipped arasumani classification map\n",
    "# Define the paths to the clipped rasters\n",
    "class_clipped_path = '/Users/annakober/Desktop/Uni/Master/WiSe24:25/geopy_data/MAP/clip_classifcation.gpkg' \n",
    "\n",
    "# Open the clipped geopackage and get are of the classes 2 and 3\n",
    "class_clipped = gpd.read_file(class_clipped_path)\n",
    "\n",
    "# Calculate the area of each class\n",
    "class_area = class_clipped.area\n",
    "\n",
    "# Calculate the total area of Typha and Phragmites\n",
    "typha_area = class_area[class_clipped['gridcode'] == 2].sum()\n",
    "phragmites_area = class_area[class_clipped['gridcode'] == 3].sum()\n",
    "\n",
    "# Print the results\n",
    "print(f\"Total area of Typha: {typha_area} m²\")\n",
    "print(f\"Total area of Phragmites: {phragmites_area} m²\")\n",
    "\n"
   ]
  }
 ],
 "metadata": {
  "kernelspec": {
   "display_name": "uni",
   "language": "python",
   "name": "python3"
  },
  "language_info": {
   "codemirror_mode": {
    "name": "ipython",
    "version": 3
   },
   "file_extension": ".py",
   "mimetype": "text/x-python",
   "name": "python",
   "nbconvert_exporter": "python",
   "pygments_lexer": "ipython3",
   "version": "3.12.7"
  }
 },
 "nbformat": 4,
 "nbformat_minor": 2
}
